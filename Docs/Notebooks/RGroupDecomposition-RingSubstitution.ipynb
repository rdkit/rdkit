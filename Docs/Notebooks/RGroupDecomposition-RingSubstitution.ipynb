{
 "cells": [
  {
   "cell_type": "markdown",
   "metadata": {},
   "source": [
    "This example shows how ring substitutions are handled."
   ]
  },
  {
   "cell_type": "code",
   "execution_count": 1,
   "metadata": {
    "collapsed": false
   },
   "outputs": [
    {
     "name": "stderr",
     "output_type": "stream",
     "text": [
      "/Users/kellebr5/anaconda/lib/python2.7/site-packages/ipykernel/__main__.py:4: RuntimeWarning: to-Python converter for std::vector<boost::shared_ptr<RDKit::ROMol>, std::allocator<boost::shared_ptr<RDKit::ROMol> > > already registered; second conversion method ignored.\n"
     ]
    }
   ],
   "source": [
    "from rdkit import Chem\n",
    "from rdkit.Chem.Draw import IPythonConsole\n",
    "IPythonConsole.ipython_useSVG=True\n",
    "from rdkit.Chem import rdRGroupDecomposition"
   ]
  },
  {
   "cell_type": "code",
   "execution_count": 2,
   "metadata": {
    "collapsed": false
   },
   "outputs": [],
   "source": [
    "import pandas as pd\n",
    "from rdkit.Chem import PandasTools"
   ]
  },
  {
   "cell_type": "code",
   "execution_count": 3,
   "metadata": {
    "collapsed": false
   },
   "outputs": [],
   "source": [
    "core = Chem.MolFromSmarts(\"*1CCCC1\")"
   ]
  },
  {
   "cell_type": "code",
   "execution_count": 4,
   "metadata": {
    "collapsed": false
   },
   "outputs": [
    {
     "data": {
      "image/png": "[encoded data removed]",
      "image/svg+xml": [
       "<?xml version='1.0' encoding='iso-8859-1'?>\n",
       "<svg version='1.1' baseProfile='full'\n",
       "              xmlns:svg='http://www.w3.org/2000/svg'\n",
       "                      xmlns:rdkit='http://www.rdkit.org/xml'\n",
       "                      xmlns:xlink='http://www.w3.org/1999/xlink'\n",
       "                  xml:space='preserve'\n",
       "width='450px' height='150px' >\n",
       "<rect style='opacity:1.0;fill:#FFFFFF;stroke:none' width='450' height='150' x='0' y='0'> </rect>\n",
       "<path d='M 280.151,68.1098 257.886,37.464' style='fill:none;fill-rule:evenodd;stroke:#7F7F7F;stroke-width:2px;stroke-linecap:butt;stroke-linejoin:miter;stroke-opacity:1;stroke-dasharray:2,6' />\n",
       "<path d='M 257.886,37.464 235.62,6.81818' style='fill:none;fill-rule:evenodd;stroke:#000000;stroke-width:2px;stroke-linecap:butt;stroke-linejoin:miter;stroke-opacity:1;stroke-dasharray:2,6' />\n",
       "<path d='M 280.151,81.8902 257.886,112.536' style='fill:none;fill-rule:evenodd;stroke:#7F7F7F;stroke-width:2px;stroke-linecap:butt;stroke-linejoin:miter;stroke-opacity:1;stroke-dasharray:2,6' />\n",
       "<path d='M 257.886,112.536 235.62,143.182' style='fill:none;fill-rule:evenodd;stroke:#000000;stroke-width:2px;stroke-linecap:butt;stroke-linejoin:miter;stroke-opacity:1;stroke-dasharray:2,6' />\n",
       "<path d='M 235.62,6.81818 155.468,32.8613' style='fill:none;fill-rule:evenodd;stroke:#000000;stroke-width:2px;stroke-linecap:butt;stroke-linejoin:miter;stroke-opacity:1;stroke-dasharray:2,6' />\n",
       "<path d='M 155.468,32.8613 155.468,117.139' style='fill:none;fill-rule:evenodd;stroke:#000000;stroke-width:2px;stroke-linecap:butt;stroke-linejoin:miter;stroke-opacity:1;stroke-dasharray:2,6' />\n",
       "<path d='M 155.468,117.139 235.62,143.182' style='fill:none;fill-rule:evenodd;stroke:#000000;stroke-width:2px;stroke-linecap:butt;stroke-linejoin:miter;stroke-opacity:1;stroke-dasharray:2,6' />\n",
       "<text x='280.151' y='82.5' style='font-size:15px;font-style:normal;font-weight:normal;fill-opacity:1;stroke:none;font-family:sans-serif;text-anchor:start;fill:#7F7F7F' ><tspan>?</tspan></text>\n",
       "</svg>\n"
      ],
      "text/plain": [
       "<rdkit.Chem.rdchem.Mol at 0x1065a9280>"
      ]
     },
     "execution_count": 4,
     "metadata": {},
     "output_type": "execute_result"
    }
   ],
   "source": [
    "core"
   ]
  },
  {
   "cell_type": "code",
   "execution_count": 5,
   "metadata": {
    "collapsed": false,
    "scrolled": true
   },
   "outputs": [],
   "source": [
    "smiles = [\"C1CCCC1-C2CCC2Cl\", \"N1CCCC1-C2CCC2Cl\", \"O1CCCC1-C2CCC2Cl\", \"N1OCCC1-C2CCC2Cl\", \"N1OCSC1-C2CCC2Cl\"]\n",
    "\n",
    "mols = [Chem.MolFromSmiles(smi) for smi in smiles]"
   ]
  },
  {
   "cell_type": "code",
   "execution_count": 6,
   "metadata": {
    "collapsed": false
   },
   "outputs": [
    {
     "data": {
      "image/svg+xml": [
       "<svg baseProfile=\"full\" height=\"400px\" version=\"1.1\" width=\"600px\" xml:space=\"preserve\" xmlns:rdkit=\"http://www.rdkit.org/xml\" xmlns:svg=\"http://www.w3.org/2000/svg\" xmlns:xlink=\"http://www.w3.org/1999/xlink\">\n",
       "<g transform=\"translate(0,0)\"><rect height=\"200\" style=\"opacity:1.0;fill:#FFFFFF;stroke:none\" width=\"200\" x=\"0\" y=\"0\"> </rect>\n",
       "<path d=\"M 138.846,130.001 183.91,122.718\" style=\"fill:none;fill-rule:evenodd;stroke:#000000;stroke-width:2px;stroke-linecap:butt;stroke-linejoin:miter;stroke-opacity:1\"/>\n",
       "<path d=\"M 138.846,130.001 117.994,89.3931\" style=\"fill:none;fill-rule:evenodd;stroke:#000000;stroke-width:2px;stroke-linecap:butt;stroke-linejoin:miter;stroke-opacity:1\"/>\n",
       "<path d=\"M 183.91,122.718 190.909,77.6085\" style=\"fill:none;fill-rule:evenodd;stroke:#000000;stroke-width:2px;stroke-linecap:butt;stroke-linejoin:miter;stroke-opacity:1\"/>\n",
       "<path d=\"M 190.909,77.6085 150.171,57.0128\" style=\"fill:none;fill-rule:evenodd;stroke:#000000;stroke-width:2px;stroke-linecap:butt;stroke-linejoin:miter;stroke-opacity:1\"/>\n",
       "<path d=\"M 150.171,57.0128 117.994,89.3931\" style=\"fill:none;fill-rule:evenodd;stroke:#000000;stroke-width:2px;stroke-linecap:butt;stroke-linejoin:miter;stroke-opacity:1\"/>\n",
       "<path d=\"M 117.994,89.3931 72.8848,82.3943\" style=\"fill:none;fill-rule:evenodd;stroke:#000000;stroke-width:2px;stroke-linecap:butt;stroke-linejoin:miter;stroke-opacity:1\"/>\n",
       "<path d=\"M 72.8848,82.3943 45.9367,45.5485\" style=\"fill:none;fill-rule:evenodd;stroke:#000000;stroke-width:2px;stroke-linecap:butt;stroke-linejoin:miter;stroke-opacity:1\"/>\n",
       "<path d=\"M 72.8848,82.3943 36.039,109.342\" style=\"fill:none;fill-rule:evenodd;stroke:#000000;stroke-width:2px;stroke-linecap:butt;stroke-linejoin:miter;stroke-opacity:1\"/>\n",
       "<path d=\"M 45.9367,45.5485 9.09091,72.4966\" style=\"fill:none;fill-rule:evenodd;stroke:#000000;stroke-width:2px;stroke-linecap:butt;stroke-linejoin:miter;stroke-opacity:1\"/>\n",
       "<path d=\"M 9.09091,72.4966 36.039,109.342\" style=\"fill:none;fill-rule:evenodd;stroke:#000000;stroke-width:2px;stroke-linecap:butt;stroke-linejoin:miter;stroke-opacity:1\"/>\n",
       "<path d=\"M 36.039,109.342 33.1298,128.093\" style=\"fill:none;fill-rule:evenodd;stroke:#000000;stroke-width:2px;stroke-linecap:butt;stroke-linejoin:miter;stroke-opacity:1\"/>\n",
       "<path d=\"M 33.1298,128.093 30.2206,146.843\" style=\"fill:none;fill-rule:evenodd;stroke:#00CC00;stroke-width:2px;stroke-linecap:butt;stroke-linejoin:miter;stroke-opacity:1\"/>\n",
       "<text style=\"font-size:15px;font-style:normal;font-weight:normal;fill-opacity:1;stroke:none;font-family:sans-serif;text-anchor:start;fill:#00CC00\" x=\"20.4183\" y=\"162.06\"><tspan>Cl</tspan></text>\n",
       "</g>\n",
       "<g transform=\"translate(200,0)\"><rect height=\"200\" style=\"opacity:1.0;fill:#FFFFFF;stroke:none\" width=\"200\" x=\"0\" y=\"0\"> </rect>\n",
       "<path d=\"M 152.035,127.869 167.973,125.294\" style=\"fill:none;fill-rule:evenodd;stroke:#0000FF;stroke-width:2px;stroke-linecap:butt;stroke-linejoin:miter;stroke-opacity:1\"/>\n",
       "<path d=\"M 167.973,125.294 183.91,122.718\" style=\"fill:none;fill-rule:evenodd;stroke:#000000;stroke-width:2px;stroke-linecap:butt;stroke-linejoin:miter;stroke-opacity:1\"/>\n",
       "<path d=\"M 134.939,122.393 126.467,105.893\" style=\"fill:none;fill-rule:evenodd;stroke:#0000FF;stroke-width:2px;stroke-linecap:butt;stroke-linejoin:miter;stroke-opacity:1\"/>\n",
       "<path d=\"M 126.467,105.893 117.994,89.3931\" style=\"fill:none;fill-rule:evenodd;stroke:#000000;stroke-width:2px;stroke-linecap:butt;stroke-linejoin:miter;stroke-opacity:1\"/>\n",
       "<path d=\"M 183.91,122.718 190.909,77.6085\" style=\"fill:none;fill-rule:evenodd;stroke:#000000;stroke-width:2px;stroke-linecap:butt;stroke-linejoin:miter;stroke-opacity:1\"/>\n",
       "<path d=\"M 190.909,77.6085 150.171,57.0128\" style=\"fill:none;fill-rule:evenodd;stroke:#000000;stroke-width:2px;stroke-linecap:butt;stroke-linejoin:miter;stroke-opacity:1\"/>\n",
       "<path d=\"M 150.171,57.0128 117.994,89.3931\" style=\"fill:none;fill-rule:evenodd;stroke:#000000;stroke-width:2px;stroke-linecap:butt;stroke-linejoin:miter;stroke-opacity:1\"/>\n",
       "<path d=\"M 117.994,89.3931 72.8848,82.3943\" style=\"fill:none;fill-rule:evenodd;stroke:#000000;stroke-width:2px;stroke-linecap:butt;stroke-linejoin:miter;stroke-opacity:1\"/>\n",
       "<path d=\"M 72.8848,82.3943 45.9367,45.5485\" style=\"fill:none;fill-rule:evenodd;stroke:#000000;stroke-width:2px;stroke-linecap:butt;stroke-linejoin:miter;stroke-opacity:1\"/>\n",
       "<path d=\"M 72.8848,82.3943 36.039,109.342\" style=\"fill:none;fill-rule:evenodd;stroke:#000000;stroke-width:2px;stroke-linecap:butt;stroke-linejoin:miter;stroke-opacity:1\"/>\n",
       "<path d=\"M 45.9367,45.5485 9.09091,72.4966\" style=\"fill:none;fill-rule:evenodd;stroke:#000000;stroke-width:2px;stroke-linecap:butt;stroke-linejoin:miter;stroke-opacity:1\"/>\n",
       "<path d=\"M 9.09091,72.4966 36.039,109.342\" style=\"fill:none;fill-rule:evenodd;stroke:#000000;stroke-width:2px;stroke-linecap:butt;stroke-linejoin:miter;stroke-opacity:1\"/>\n",
       "<path d=\"M 36.039,109.342 33.1298,128.093\" style=\"fill:none;fill-rule:evenodd;stroke:#000000;stroke-width:2px;stroke-linecap:butt;stroke-linejoin:miter;stroke-opacity:1\"/>\n",
       "<path d=\"M 33.1298,128.093 30.2206,146.843\" style=\"fill:none;fill-rule:evenodd;stroke:#00CC00;stroke-width:2px;stroke-linecap:butt;stroke-linejoin:miter;stroke-opacity:1\"/>\n",
       "<text style=\"font-size:15px;font-style:normal;font-weight:normal;fill-opacity:1;stroke:none;font-family:sans-serif;text-anchor:start;fill:#0000FF\" x=\"125.658\" y=\"137.609\"><tspan>NH</tspan></text>\n",
       "<text style=\"font-size:15px;font-style:normal;font-weight:normal;fill-opacity:1;stroke:none;font-family:sans-serif;text-anchor:start;fill:#00CC00\" x=\"20.4183\" y=\"162.06\"><tspan>Cl</tspan></text>\n",
       "</g>\n",
       "<g transform=\"translate(400,0)\"><rect height=\"200\" style=\"opacity:1.0;fill:#FFFFFF;stroke:none\" width=\"200\" x=\"0\" y=\"0\"> </rect>\n",
       "<path d=\"M 145.952,128.852 164.931,125.785\" style=\"fill:none;fill-rule:evenodd;stroke:#FF0000;stroke-width:2px;stroke-linecap:butt;stroke-linejoin:miter;stroke-opacity:1\"/>\n",
       "<path d=\"M 164.931,125.785 183.91,122.718\" style=\"fill:none;fill-rule:evenodd;stroke:#000000;stroke-width:2px;stroke-linecap:butt;stroke-linejoin:miter;stroke-opacity:1\"/>\n",
       "<path d=\"M 134.939,122.393 126.467,105.893\" style=\"fill:none;fill-rule:evenodd;stroke:#FF0000;stroke-width:2px;stroke-linecap:butt;stroke-linejoin:miter;stroke-opacity:1\"/>\n",
       "<path d=\"M 126.467,105.893 117.994,89.3931\" style=\"fill:none;fill-rule:evenodd;stroke:#000000;stroke-width:2px;stroke-linecap:butt;stroke-linejoin:miter;stroke-opacity:1\"/>\n",
       "<path d=\"M 183.91,122.718 190.909,77.6085\" style=\"fill:none;fill-rule:evenodd;stroke:#000000;stroke-width:2px;stroke-linecap:butt;stroke-linejoin:miter;stroke-opacity:1\"/>\n",
       "<path d=\"M 190.909,77.6085 150.171,57.0128\" style=\"fill:none;fill-rule:evenodd;stroke:#000000;stroke-width:2px;stroke-linecap:butt;stroke-linejoin:miter;stroke-opacity:1\"/>\n",
       "<path d=\"M 150.171,57.0128 117.994,89.3931\" style=\"fill:none;fill-rule:evenodd;stroke:#000000;stroke-width:2px;stroke-linecap:butt;stroke-linejoin:miter;stroke-opacity:1\"/>\n",
       "<path d=\"M 117.994,89.3931 72.8848,82.3943\" style=\"fill:none;fill-rule:evenodd;stroke:#000000;stroke-width:2px;stroke-linecap:butt;stroke-linejoin:miter;stroke-opacity:1\"/>\n",
       "<path d=\"M 72.8848,82.3943 45.9367,45.5485\" style=\"fill:none;fill-rule:evenodd;stroke:#000000;stroke-width:2px;stroke-linecap:butt;stroke-linejoin:miter;stroke-opacity:1\"/>\n",
       "<path d=\"M 72.8848,82.3943 36.039,109.342\" style=\"fill:none;fill-rule:evenodd;stroke:#000000;stroke-width:2px;stroke-linecap:butt;stroke-linejoin:miter;stroke-opacity:1\"/>\n",
       "<path d=\"M 45.9367,45.5485 9.09091,72.4966\" style=\"fill:none;fill-rule:evenodd;stroke:#000000;stroke-width:2px;stroke-linecap:butt;stroke-linejoin:miter;stroke-opacity:1\"/>\n",
       "<path d=\"M 9.09091,72.4966 36.039,109.342\" style=\"fill:none;fill-rule:evenodd;stroke:#000000;stroke-width:2px;stroke-linecap:butt;stroke-linejoin:miter;stroke-opacity:1\"/>\n",
       "<path d=\"M 36.039,109.342 33.1298,128.093\" style=\"fill:none;fill-rule:evenodd;stroke:#000000;stroke-width:2px;stroke-linecap:butt;stroke-linejoin:miter;stroke-opacity:1\"/>\n",
       "<path d=\"M 33.1298,128.093 30.2206,146.843\" style=\"fill:none;fill-rule:evenodd;stroke:#00CC00;stroke-width:2px;stroke-linecap:butt;stroke-linejoin:miter;stroke-opacity:1\"/>\n",
       "<text style=\"font-size:15px;font-style:normal;font-weight:normal;fill-opacity:1;stroke:none;font-family:sans-serif;text-anchor:start;fill:#FF0000\" x=\"131.74\" y=\"137.609\"><tspan>O</tspan></text>\n",
       "<text style=\"font-size:15px;font-style:normal;font-weight:normal;fill-opacity:1;stroke:none;font-family:sans-serif;text-anchor:start;fill:#00CC00\" x=\"20.4183\" y=\"162.06\"><tspan>Cl</tspan></text>\n",
       "</g>\n",
       "<g transform=\"translate(0,200)\"><rect height=\"200\" style=\"opacity:1.0;fill:#FFFFFF;stroke:none\" width=\"200\" x=\"0\" y=\"0\"> </rect>\n",
       "<path d=\"M 151.951,127.853 164.328,125.853\" style=\"fill:none;fill-rule:evenodd;stroke:#0000FF;stroke-width:2px;stroke-linecap:butt;stroke-linejoin:miter;stroke-opacity:1\"/>\n",
       "<path d=\"M 164.328,125.853 176.706,123.852\" style=\"fill:none;fill-rule:evenodd;stroke:#FF0000;stroke-width:2px;stroke-linecap:butt;stroke-linejoin:miter;stroke-opacity:1\"/>\n",
       "<path d=\"M 134.865,122.38 126.398,105.889\" style=\"fill:none;fill-rule:evenodd;stroke:#0000FF;stroke-width:2px;stroke-linecap:butt;stroke-linejoin:miter;stroke-opacity:1\"/>\n",
       "<path d=\"M 126.398,105.889 117.93,89.3993\" style=\"fill:none;fill-rule:evenodd;stroke:#000000;stroke-width:2px;stroke-linecap:butt;stroke-linejoin:miter;stroke-opacity:1\"/>\n",
       "<path d=\"M 184.987,115.101 187.895,96.3612\" style=\"fill:none;fill-rule:evenodd;stroke:#FF0000;stroke-width:2px;stroke-linecap:butt;stroke-linejoin:miter;stroke-opacity:1\"/>\n",
       "<path d=\"M 187.895,96.3612 190.802,77.6217\" style=\"fill:none;fill-rule:evenodd;stroke:#000000;stroke-width:2px;stroke-linecap:butt;stroke-linejoin:miter;stroke-opacity:1\"/>\n",
       "<path d=\"M 190.802,77.6217 150.088,57.0381\" style=\"fill:none;fill-rule:evenodd;stroke:#000000;stroke-width:2px;stroke-linecap:butt;stroke-linejoin:miter;stroke-opacity:1\"/>\n",
       "<path d=\"M 150.088,57.0381 117.93,89.3993\" style=\"fill:none;fill-rule:evenodd;stroke:#000000;stroke-width:2px;stroke-linecap:butt;stroke-linejoin:miter;stroke-opacity:1\"/>\n",
       "<path d=\"M 117.93,89.3993 72.8473,82.4047\" style=\"fill:none;fill-rule:evenodd;stroke:#000000;stroke-width:2px;stroke-linecap:butt;stroke-linejoin:miter;stroke-opacity:1\"/>\n",
       "<path d=\"M 72.8473,82.4047 45.9151,45.5805\" style=\"fill:none;fill-rule:evenodd;stroke:#000000;stroke-width:2px;stroke-linecap:butt;stroke-linejoin:miter;stroke-opacity:1\"/>\n",
       "<path d=\"M 72.8473,82.4047 36.0231,109.337\" style=\"fill:none;fill-rule:evenodd;stroke:#000000;stroke-width:2px;stroke-linecap:butt;stroke-linejoin:miter;stroke-opacity:1\"/>\n",
       "<path d=\"M 45.9151,45.5805 9.09091,72.5127\" style=\"fill:none;fill-rule:evenodd;stroke:#000000;stroke-width:2px;stroke-linecap:butt;stroke-linejoin:miter;stroke-opacity:1\"/>\n",
       "<path d=\"M 9.09091,72.5127 36.0231,109.337\" style=\"fill:none;fill-rule:evenodd;stroke:#000000;stroke-width:2px;stroke-linecap:butt;stroke-linejoin:miter;stroke-opacity:1\"/>\n",
       "<path d=\"M 36.0231,109.337 33.1157,128.076\" style=\"fill:none;fill-rule:evenodd;stroke:#000000;stroke-width:2px;stroke-linecap:butt;stroke-linejoin:miter;stroke-opacity:1\"/>\n",
       "<path d=\"M 33.1157,128.076 30.2082,146.816\" style=\"fill:none;fill-rule:evenodd;stroke:#00CC00;stroke-width:2px;stroke-linecap:butt;stroke-linejoin:miter;stroke-opacity:1\"/>\n",
       "<text style=\"font-size:15px;font-style:normal;font-weight:normal;fill-opacity:1;stroke:none;font-family:sans-serif;text-anchor:start;fill:#0000FF\" x=\"125.589\" y=\"137.587\"><tspan>NH</tspan></text>\n",
       "<text style=\"font-size:15px;font-style:normal;font-weight:normal;fill-opacity:1;stroke:none;font-family:sans-serif;text-anchor:start;fill:#FF0000\" x=\"176.706\" y=\"130.308\"><tspan>O</tspan></text>\n",
       "<text style=\"font-size:15px;font-style:normal;font-weight:normal;fill-opacity:1;stroke:none;font-family:sans-serif;text-anchor:start;fill:#00CC00\" x=\"20.4116\" y=\"162.023\"><tspan>Cl</tspan></text>\n",
       "</g>\n",
       "<g transform=\"translate(200,200)\"><rect height=\"200\" style=\"opacity:1.0;fill:#FFFFFF;stroke:none\" width=\"200\" x=\"0\" y=\"0\"> </rect>\n",
       "<path d=\"M 151.951,127.853 164.328,125.853\" style=\"fill:none;fill-rule:evenodd;stroke:#0000FF;stroke-width:2px;stroke-linecap:butt;stroke-linejoin:miter;stroke-opacity:1\"/>\n",
       "<path d=\"M 164.328,125.853 176.706,123.852\" style=\"fill:none;fill-rule:evenodd;stroke:#FF0000;stroke-width:2px;stroke-linecap:butt;stroke-linejoin:miter;stroke-opacity:1\"/>\n",
       "<path d=\"M 134.865,122.38 126.398,105.889\" style=\"fill:none;fill-rule:evenodd;stroke:#0000FF;stroke-width:2px;stroke-linecap:butt;stroke-linejoin:miter;stroke-opacity:1\"/>\n",
       "<path d=\"M 126.398,105.889 117.93,89.3993\" style=\"fill:none;fill-rule:evenodd;stroke:#000000;stroke-width:2px;stroke-linecap:butt;stroke-linejoin:miter;stroke-opacity:1\"/>\n",
       "<path d=\"M 184.987,115.101 187.895,96.3612\" style=\"fill:none;fill-rule:evenodd;stroke:#FF0000;stroke-width:2px;stroke-linecap:butt;stroke-linejoin:miter;stroke-opacity:1\"/>\n",
       "<path d=\"M 187.895,96.3612 190.802,77.6217\" style=\"fill:none;fill-rule:evenodd;stroke:#000000;stroke-width:2px;stroke-linecap:butt;stroke-linejoin:miter;stroke-opacity:1\"/>\n",
       "<path d=\"M 190.802,77.6217 173.489,68.8689\" style=\"fill:none;fill-rule:evenodd;stroke:#000000;stroke-width:2px;stroke-linecap:butt;stroke-linejoin:miter;stroke-opacity:1\"/>\n",
       "<path d=\"M 173.489,68.8689 156.176,60.1162\" style=\"fill:none;fill-rule:evenodd;stroke:#CCCC00;stroke-width:2px;stroke-linecap:butt;stroke-linejoin:miter;stroke-opacity:1\"/>\n",
       "<path d=\"M 143.999,63.1651 130.964,76.2822\" style=\"fill:none;fill-rule:evenodd;stroke:#CCCC00;stroke-width:2px;stroke-linecap:butt;stroke-linejoin:miter;stroke-opacity:1\"/>\n",
       "<path d=\"M 130.964,76.2822 117.93,89.3993\" style=\"fill:none;fill-rule:evenodd;stroke:#000000;stroke-width:2px;stroke-linecap:butt;stroke-linejoin:miter;stroke-opacity:1\"/>\n",
       "<path d=\"M 117.93,89.3993 72.8473,82.4047\" style=\"fill:none;fill-rule:evenodd;stroke:#000000;stroke-width:2px;stroke-linecap:butt;stroke-linejoin:miter;stroke-opacity:1\"/>\n",
       "<path d=\"M 72.8473,82.4047 45.9151,45.5805\" style=\"fill:none;fill-rule:evenodd;stroke:#000000;stroke-width:2px;stroke-linecap:butt;stroke-linejoin:miter;stroke-opacity:1\"/>\n",
       "<path d=\"M 72.8473,82.4047 36.0231,109.337\" style=\"fill:none;fill-rule:evenodd;stroke:#000000;stroke-width:2px;stroke-linecap:butt;stroke-linejoin:miter;stroke-opacity:1\"/>\n",
       "<path d=\"M 45.9151,45.5805 9.09091,72.5127\" style=\"fill:none;fill-rule:evenodd;stroke:#000000;stroke-width:2px;stroke-linecap:butt;stroke-linejoin:miter;stroke-opacity:1\"/>\n",
       "<path d=\"M 9.09091,72.5127 36.0231,109.337\" style=\"fill:none;fill-rule:evenodd;stroke:#000000;stroke-width:2px;stroke-linecap:butt;stroke-linejoin:miter;stroke-opacity:1\"/>\n",
       "<path d=\"M 36.0231,109.337 33.1157,128.076\" style=\"fill:none;fill-rule:evenodd;stroke:#000000;stroke-width:2px;stroke-linecap:butt;stroke-linejoin:miter;stroke-opacity:1\"/>\n",
       "<path d=\"M 33.1157,128.076 30.2082,146.816\" style=\"fill:none;fill-rule:evenodd;stroke:#00CC00;stroke-width:2px;stroke-linecap:butt;stroke-linejoin:miter;stroke-opacity:1\"/>\n",
       "<text style=\"font-size:15px;font-style:normal;font-weight:normal;fill-opacity:1;stroke:none;font-family:sans-serif;text-anchor:start;fill:#0000FF\" x=\"125.589\" y=\"137.587\"><tspan>NH</tspan></text>\n",
       "<text style=\"font-size:15px;font-style:normal;font-weight:normal;fill-opacity:1;stroke:none;font-family:sans-serif;text-anchor:start;fill:#FF0000\" x=\"176.706\" y=\"130.308\"><tspan>O</tspan></text>\n",
       "<text style=\"font-size:15px;font-style:normal;font-weight:normal;fill-opacity:1;stroke:none;font-family:sans-serif;text-anchor:start;fill:#CCCC00\" x=\"143.999\" y=\"64.6418\"><tspan>S</tspan></text>\n",
       "<text style=\"font-size:15px;font-style:normal;font-weight:normal;fill-opacity:1;stroke:none;font-family:sans-serif;text-anchor:start;fill:#00CC00\" x=\"20.4116\" y=\"162.023\"><tspan>Cl</tspan></text>\n",
       "</g>\n",
       "<g transform=\"translate(400,200)\"><rect height=\"200\" style=\"opacity:1.0;fill:#FFFFFF;stroke:none\" width=\"200\" x=\"0\" y=\"0\"> </rect>\n",
       "</g></svg>"
      ],
      "text/plain": [
       "<IPython.core.display.SVG object>"
      ]
     },
     "execution_count": 6,
     "metadata": {},
     "output_type": "execute_result"
    }
   ],
   "source": [
    "from rdkit.Chem import Draw\n",
    "Draw.MolsToGridImage(mols)"
   ]
  },
  {
   "cell_type": "code",
   "execution_count": 7,
   "metadata": {
    "collapsed": false
   },
   "outputs": [
    {
     "data": {
      "text/plain": [
       "(0, 1, 2, 3, 4)"
      ]
     },
     "execution_count": 7,
     "metadata": {},
     "output_type": "execute_result"
    }
   ],
   "source": [
    "core.GetSubstructMatch(core)"
   ]
  },
  {
   "cell_type": "markdown",
   "metadata": {},
   "source": [
    "Make RGroup decomposition!"
   ]
  },
  {
   "cell_type": "code",
   "execution_count": 8,
   "metadata": {
    "collapsed": false
   },
   "outputs": [],
   "source": [
    "rgroups = rdRGroupDecomposition.RGroupDecomposition(core)"
   ]
  },
  {
   "cell_type": "code",
   "execution_count": 9,
   "metadata": {
    "collapsed": false
   },
   "outputs": [],
   "source": [
    "for i,m in enumerate(mols):\n",
    "    rgroups.Add(m)\n",
    "    if i == 10:\n",
    "        break"
   ]
  },
  {
   "cell_type": "markdown",
   "metadata": {},
   "source": [
    "We need to call process after all molecules are added to optimize the RGroups."
   ]
  },
  {
   "cell_type": "code",
   "execution_count": 10,
   "metadata": {
    "collapsed": false
   },
   "outputs": [
    {
     "data": {
      "text/plain": [
       "True"
      ]
     },
     "execution_count": 10,
     "metadata": {},
     "output_type": "execute_result"
    }
   ],
   "source": [
    "rgroups.Process()"
   ]
  },
  {
   "cell_type": "code",
   "execution_count": 11,
   "metadata": {
    "collapsed": false
   },
   "outputs": [],
   "source": [
    "groups = rgroups.GetRGroupsAsColumns()\n",
    "frame = pd.DataFrame(groups)\n",
    "PandasTools.ChangeMoleculeRendering(frame)"
   ]
  },
  {
   "cell_type": "markdown",
   "metadata": {},
   "source": [
    "I would have preferred new cores to appear and the [*:2]-N-[*:2] depiction is a bit annoying...  Perhaps for round 2"
   ]
  },
  {
   "cell_type": "code",
   "execution_count": 12,
   "metadata": {
    "collapsed": false
   },
   "outputs": [
    {
     "data": {
      "text/html": [
       "<table border=\"1\" class=\"dataframe\">\n",
       "  <thead>\n",
       "    <tr style=\"text-align: right;\">\n",
       "      <th></th>\n",
       "      <th>Core</th>\n",
       "      <th>R1</th>\n",
       "      <th>R2</th>\n",
       "    </tr>\n",
       "  </thead>\n",
       "  <tbody>\n",
       "    <tr>\n",
       "      <th>0</th>\n",
       "      <td><img src=\"data:image/png;base64,iVBORw0KGgoAAAANSUhEUgAAAMgAAADICAIAAAAiOjnJAAADwUlEQVR4nO3d23KiWABA0TA1/530lzMPVFkZ20ZQdnPJWk+ImhDZdTjiJcM4jh+wtX/23gCuSVgkhEVCWCSERUJYJIRFQlgkhEVCWCSERUJYJIRFQlgkhEVCWCSERUJYJIRFQlgkhEVCWCSERUJYJIRFQlgkhEVCWCSERUJYJIRFQlgkhEVCWCSERUJYJIRFQlgkhEVCWCSERUJYJIRFQlgkhEVCWCSERUJYJIRFQlgkhEVCWCSERUJYJIRFQlgkhEVCWCSERUJYJIRFQlgkhEVCWCSERUJYJIRFQlgkhLWxYRiGYdh7K/b3794bcCnDMIzjOC1Ma6aLP5CwEreevo9ePyqy4Uf9tanbcDVzg2nhJzzmwtrG06rubjwtXPjBF9YGVlV1d8fb8sV2hDnWnr7HdLFhzIj1rpeHq5kfOC2cetcI6y2bV3X3w6eFM+4jYb0ureruF92Wz7K/zLFO4IxTMSPWi/7acDWzAR8Hzstrha/YvaqPAyc1EdZqR6jq+IRFQljrGK4WEtYKqlpOWEupahVhkRDWIoartYT1nKpeIKwnVPUaYZEQ1hzD1cuE9UeqeoewHlPVm4RFQlgPGK7eJ6x7qtrEgd6a/PX1NX/xbs3ya5dT1VYOFNbH/2O6tTJfzCY9sbljhfXQfF4z18409+vXr4frDVdbOUFYDy059s0fOh+udyjcyrHCujsULrzlhsZx1NYmDhqWmdPZHfR0w1bP8l4wDVq7/OorOWhY+9LW+84aVj2eaetNJqpzDj6RP/LmnXXE4uCENccB8WXCemIcR+c+XiCs53Y893FewiIhrEUMWmsJayltrSKsFbS1nLBICGsdg9ZCwlpNW0sI66wO/pLAcV/FPLhdxq0T/YsKYR3dlO/06Y8T7SxhHdHy9/4f1rHe886Sj1KeghGLhGeFJIRFQlgkhEXCs8J3zXz70vwHuy/+se+R93x+fj68+H393W2eXnsBDoWVH/61XsLKfX9V8feervpeCSdI3zUzx/r4W99weUR7H4tPb2a2ND95uuTU6kZY71oyeX96r+sxxyLhPFbo93Naf5rIX2+mZfJOwqGQhLBICIuEsEgIi4SwSAiLhLBICIuEsEgIi4SwSAiLhLBICIuEsEgIi4SwSAiLhLBICIuEsEgIi4SwSAiLhLBICIuEsEgIi4SwSAiLhLBICIuEsEgIi4SwSAiLhLBICIuEsEgIi4SwSAiLhLBICIuEsEgIi4SwSAiLhLBICIuEsEgIi4SwSAiLhLBICIuEsEgIi4SwSAiLxH+njyFQeLJU4gAAAABJRU5ErkJggg==\" alt=\"Mol\"/></td>\n",
       "      <td><img src=\"data:image/png;base64,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\" alt=\"Mol\"/></td>\n",
       "      <td><img src=\"data:image/png;base64,iVBORw0KGgoAAAANSUhEUgAAAMgAAADICAIAAAAiOjnJAAADtklEQVR4nO3cW1LiUBRAUdPVM3YAMAAdc/rDLtqGmOBjQ0jW+rDEByZkc3NAimEcxyf4ab/uvQFsk7BICIuEsEgIi4SwSAiLhLBICIuEsEgIi4SwSAiLhLBICIuEsEgIi4SwSAiLhLBICIuEsEgIi4SwSAiLhLBICIuEsEgIi4SwSAiLhLBICIuEsEgIi4SwSAiLhLBICIuEsEgIi4SwSAiLhLBICIuEsEgIi4SwSAiLhLBICIuEsEgIi4SwSAiLhLBICIuEsEgIi4SwSAiLhLBICIuEsEgIi4SwSAiLhLBICIuEsEgIi4SwSGw2rNfX18Wv3NgKN6mz2bC4L2GREBaJ3/fegNAKJ5gVblJky2E9Pz+/v7iGg7rCTYo4FZIQFglhkRjGcbz3NrBBViwSOw3rZg/HNvy4b8G4Vy8vLxv4E6u137DG+MDvuapx52GN2eHfeVWjsMYgAlWN47jT4Z3cvctehR9cYyxXb4T1148EoaoTYf3zzSxU9Z6w/vPlOFR1RljnvpCIqi75J/SEYfjEzfKpH94PTzdMGMdxGIZ7b8VjE9a3WK4+Iqxp1yxaqpohrA/Nt6WqecKaY9j6MmEtmGzLcrVIWMvO2lLVNYT1Oaq6krCuYtj6LGFd660ty9WVtvzeDT/obbk6rVvyWuQuuGCyJEvXIjfQh+YXJ0vXPDPWhOPx+LYmzXTz98Uhw2Con2TF+s/xeDx9vJ4z4yW3yD/H4/GzSZ04M54R1tPTVxeqS8MwHA6H71/PBuw9rJ9Kqr7Oh7PrsL5z7rvmyp92nNeuw7qB3eYlrFvYYV7Cup1d5SWsW0sHu/UQFgn/0iEhLBIP/Hqss0nl/cXT55PTzPx3b2wbezGheEOI2zgcDpMX33/97GcWv3t729iLSxs8Fc7fg1d6/77w6HuxwbBO3j+wvzwSj/Kw/0H34oGfbpiZTp6WbvH1HI9t7MWEe5+Lv25mzpgfO1Y1lGxjLy5tJKzxg7F38bfubht7cWnLMxZ39MDPY824fDbooxF4vTPKg+/FAw/vrJlTIQlhkRAWCWGREBYJYZEQFglhkRAWCWGREBYJYZEQFglhkRAWCWGREBYJYZEQFglhkRAWCWGREBYJYZEQFglhkRAWCWGREBYJYZEQFglhkRAWCWGREBYJYZEQFglhkRAWCWGREBYJYZEQFglhkRAWCWGREBYJYZEQFglhkRAWCWGREBYJYZEQFglhkRAWCWGREBYJYZEQFglhkRAWCWGREBYJYZEQFglhkfgDCB/SM1YDxrIAAAAASUVORK5CYII=\" alt=\"Mol\"/></td>\n",
       "    </tr>\n",
       "    <tr>\n",
       "      <th>1</th>\n",
       "      <td><img src=\"data:image/png;base64,iVBORw0KGgoAAAANSUhEUgAAAMgAAADICAIAAAAiOjnJAAADwUlEQVR4nO3d23KiWABA0TA1/530lzMPVFkZ20ZQdnPJWk+ImhDZdTjiJcM4jh+wtX/23gCuSVgkhEVCWCSERUJYJIRFQlgkhEVCWCSERUJYJIRFQlgkhEVCWCSERUJYJIRFQlgkhEVCWCSERUJYJIRFQlgkhEVCWCSERUJYJIRFQlgkhEVCWCSERUJYJIRFQlgkhEVCWCSERUJYJIRFQlgkhEVCWCSERUJYJIRFQlgkhEVCWCSERUJYJIRFQlgkhEVCWCSERUJYJIRFQlgkhEVCWCSERUJYJIRFQlgkhLWxYRiGYdh7K/b3794bcCnDMIzjOC1Ma6aLP5CwEreevo9ePyqy4Uf9tanbcDVzg2nhJzzmwtrG06rubjwtXPjBF9YGVlV1d8fb8sV2hDnWnr7HdLFhzIj1rpeHq5kfOC2cetcI6y2bV3X3w6eFM+4jYb0ureruF92Wz7K/zLFO4IxTMSPWi/7acDWzAR8Hzstrha/YvaqPAyc1EdZqR6jq+IRFQljrGK4WEtYKqlpOWEupahVhkRDWIoartYT1nKpeIKwnVPUaYZEQ1hzD1cuE9UeqeoewHlPVm4RFQlgPGK7eJ6x7qtrEgd6a/PX1NX/xbs3ya5dT1VYOFNbH/2O6tTJfzCY9sbljhfXQfF4z18409+vXr4frDVdbOUFYDy059s0fOh+udyjcyrHCujsULrzlhsZx1NYmDhqWmdPZHfR0w1bP8l4wDVq7/OorOWhY+9LW+84aVj2eaetNJqpzDj6RP/LmnXXE4uCENccB8WXCemIcR+c+XiCs53Y893FewiIhrEUMWmsJayltrSKsFbS1nLBICGsdg9ZCwlpNW0sI66wO/pLAcV/FPLhdxq0T/YsKYR3dlO/06Y8T7SxhHdHy9/4f1rHe886Sj1KeghGLhGeFJIRFQlgkhEXCs8J3zXz70vwHuy/+se+R93x+fj68+H393W2eXnsBDoWVH/61XsLKfX9V8feervpeCSdI3zUzx/r4W99weUR7H4tPb2a2ND95uuTU6kZY71oyeX96r+sxxyLhPFbo93Naf5rIX2+mZfJOwqGQhLBICIuEsEgIi4SwSAiLhLBICIuEsEgIi4SwSAiLhLBICIuEsEgIi4SwSAiLhLBICIuEsEgIi4SwSAiLhLBICIuEsEgIi4SwSAiLhLBICIuEsEgIi4SwSAiLhLBICIuEsEgIi4SwSAiLhLBICIuEsEgIi4SwSAiLhLBICIuEsEgIi4SwSAiLhLBICIuEsEgIi4SwSAiLxH+njyFQeLJU4gAAAABJRU5ErkJggg==\" alt=\"Mol\"/></td>\n",
       "      <td><img src=\"data:image/png;base64,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\" alt=\"Mol\"/></td>\n",
       "      <td><img src=\"data:image/png;base64,iVBORw0KGgoAAAANSUhEUgAAAMgAAADICAIAAAAiOjnJAAADNUlEQVR4nO3dW27aQABA0VB1x1lAvIGs2f1IRRF2sN32AjbnfETBBImBy8zgvE7jOL7B//bj0XeAYxIWCWGREBYJYZEQFglhkRAWCWGREBYJYZEQFglhkRAWCWGREBYJYZEQFglhkRAWCWGREBYJYZEQFglhkRAWCWGREBYJYZEQFglhkRAWCWGREBYJYZEQFglhkRAWCWGREBYJYZEQFglhkRAWCWGREBYJYZEQFglhkRAWCWGREBYJYZEQFglhkRAWCWGREBYJYZEQFglhkRAWCWGREBYJYZEQFglhkRAWCWEt+/z8XDzCFWGREBYJYZH4+eg7sA82VVsJa5X39/fLizpbZCkkISwSwiJxGsfx0feBAzJjkRAWCWFt4CzDesIiISwSwiIhLBLCIiEsEsIiISwSwiLhm9AbnE5vHq2VzFgkhEVCWCSERUJYJIRFQlgkhEVCWBs4O7qesEgIi4SwSAiLhLBICIuEsJadTstHuCKsVZS0lbBWGUdtbSMsEsJay6S1ibA20NZ6wpqxqR6pzRLWtdu/4zWdtL6OyOuKfyDwx1cciz8bM9vW+pu/CDPWb8MwjON8FtOD332ZTdiZGettGIbzx393buvFp66XDuv/JnV2XhlfuS1/uyEUhbsLwsq9Zl7CupNhGF6qLWHdz0tNXcK6txeZuoRFwglSEjs+j3W1oFxePH8+u+jcvvbOjjGKGeNufXx8zF68PH71NYvX3t8xRjF1wKXw9iv4SV/fE3sfxQHDOrt8/zV9Jvby7myno9jxu8Ibu5O3pUf8eZ6PY4xixqPX4r93Y59xe9vxVJuSY4xi6iBhjd9sexdv9XDHGMXUkfdYPNCOz2PdMD0b9N0W+Hn3KDsfxY437zwzSyEJYZEQFglhkRAWCWGREBYJYZEQFglhkRAWCWGREBYJYZEQFglhkRAWCWGREBYJYZEQFglhkRAWCWGREBYJYZEQFglhkRAWCWGREBYJYZEQFglhkRAWCWGREBYJYZEQFglhkRAWCWGREBYJYZEQFglhkRAWCWGREBYJYZEQFglhkRAWCWGREBYJYZEQFglhkRAWCWGREBYJYZEQFglhkfgFIwWQ5HnVLYIAAAAASUVORK5CYII=\" alt=\"Mol\"/></td>\n",
       "    </tr>\n",
       "    <tr>\n",
       "      <th>2</th>\n",
       "      <td><img src=\"data:image/png;base64,iVBORw0KGgoAAAANSUhEUgAAAMgAAADICAIAAAAiOjnJAAADwUlEQVR4nO3d23KiWABA0TA1/530lzMPVFkZ20ZQdnPJWk+ImhDZdTjiJcM4jh+wtX/23gCuSVgkhEVCWCSERUJYJIRFQlgkhEVCWCSERUJYJIRFQlgkhEVCWCSERUJYJIRFQlgkhEVCWCSERUJYJIRFQlgkhEVCWCSERUJYJIRFQlgkhEVCWCSERUJYJIRFQlgkhEVCWCSERUJYJIRFQlgkhEVCWCSERUJYJIRFQlgkhEVCWCSERUJYJIRFQlgkhEVCWCSERUJYJIRFQlgkhEVCWCSERUJYJIRFQlgkhLWxYRiGYdh7K/b3794bcCnDMIzjOC1Ma6aLP5CwEreevo9ePyqy4Uf9tanbcDVzg2nhJzzmwtrG06rubjwtXPjBF9YGVlV1d8fb8sV2hDnWnr7HdLFhzIj1rpeHq5kfOC2cetcI6y2bV3X3w6eFM+4jYb0ureruF92Wz7K/zLFO4IxTMSPWi/7acDWzAR8Hzstrha/YvaqPAyc1EdZqR6jq+IRFQljrGK4WEtYKqlpOWEupahVhkRDWIoartYT1nKpeIKwnVPUaYZEQ1hzD1cuE9UeqeoewHlPVm4RFQlgPGK7eJ6x7qtrEgd6a/PX1NX/xbs3ya5dT1VYOFNbH/2O6tTJfzCY9sbljhfXQfF4z18409+vXr4frDVdbOUFYDy059s0fOh+udyjcyrHCujsULrzlhsZx1NYmDhqWmdPZHfR0w1bP8l4wDVq7/OorOWhY+9LW+84aVj2eaetNJqpzDj6RP/LmnXXE4uCENccB8WXCemIcR+c+XiCs53Y893FewiIhrEUMWmsJayltrSKsFbS1nLBICGsdg9ZCwlpNW0sI66wO/pLAcV/FPLhdxq0T/YsKYR3dlO/06Y8T7SxhHdHy9/4f1rHe886Sj1KeghGLhGeFJIRFQlgkhEXCs8J3zXz70vwHuy/+se+R93x+fj68+H393W2eXnsBDoWVH/61XsLKfX9V8feervpeCSdI3zUzx/r4W99weUR7H4tPb2a2ND95uuTU6kZY71oyeX96r+sxxyLhPFbo93Naf5rIX2+mZfJOwqGQhLBICIuEsEgIi4SwSAiLhLBICIuEsEgIi4SwSAiLhLBICIuEsEgIi4SwSAiLhLBICIuEsEgIi4SwSAiLhLBICIuEsEgIi4SwSAiLhLBICIuEsEgIi4SwSAiLhLBICIuEsEgIi4SwSAiLhLBICIuEsEgIi4SwSAiLhLBICIuEsEgIi4SwSAiLhLBICIuEsEgIi4SwSAiLxH+njyFQeLJU4gAAAABJRU5ErkJggg==\" alt=\"Mol\"/></td>\n",
       "      <td><img src=\"data:image/png;base64,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\" alt=\"Mol\"/></td>\n",
       "      <td><img src=\"data:image/png;base64,iVBORw0KGgoAAAANSUhEUgAAAMgAAADICAIAAAAiOjnJAAADE0lEQVR4nO3Y0Y6aUBRAUWz63/rn9MHWOoI4bdwqsNbDREZMvLqFA4dxHAd4th/vfgNsk7BICIuEsEgIi4SwSAiLhLBICIuEsEgIi4SwSAiLhLBICIuEsEgIi4SwSAiLhLBICIuEsEgIi4SwSAiLhLBICIuEsEgIi4SwSAiLhLBICIuEsEgIi4SwSAiLhLBICIuEsEgIi4SwSAiLhLBICIuEsEgIi4SwSAiLhLBICIuEsEgIi4SwSAiLhLBICIuEsEgIi4SwSAiLhLBICIuEsEgIi4SwSAiLhLBICIuEsEgIi4SwSAiLhLBICIuEsEgIi4SwSAiLhLBICIuEsEgIi4SwSAiLhLBICIvEz3e/gZU4HP4+Hsf3vY/VENY3HA5fYrrZZI5T4SPTjMbxywGMOcIiISwSwiIhrDn/NEKZt+YIa+JmWp+O6rM7yOurw+jK+eIcx+wH8p37WAsv3x9HrN9Op9MwjnezOD+1sMNlH4euYRjcIB3OSf35+wSXtvZ96Np1WE9O6uKc1L5v0JuxQlW4ayCs3D7zEtaLnE6nXbUlrNfZ1aFLWK+2k0OXsEi4QUpixfexbk4o15uXx7MnneVnX2wbq5gxrtbxeJzdvP7/zT4Pn329baxiaoOnwuVf8If+vifWvooNhnVxff01/SbWcnW20lWs+KpwYToZHn3in/N9bGMVM959Lv5/C3PG8tjxUUPJNlYxtZGwxjtj78NXvd02VjG15RmLN1rxfawF07tB90bgz51RVr6KFQ/vfDKnQhLCIiEsEsIiISwSwiIhLBLCIiEsEsIiISwSwiIhLBLCIiEsEsIiISwSwiIhLBLCIiEsEsIiISwSwiIhLBLCIiEsEsIiISwSwiIhLBLCIiEsEsIiISwSwiIhLBLCIiEsEsIiISwSwiIhLBLCIiEsEsIiISwSwiIhLBLCIiEsEsIiISwSwiIhLBLCIiEsEsIiISwSwiIhLBLCIiEsEsIiISwSwiIhLBLCIiEsEsIiISwSwiIhLBLCIiEsEsIiISwSwiIhLBLCIiEsEsIiISwSvwAWpYhEQnF3pwAAAABJRU5ErkJggg==\" alt=\"Mol\"/></td>\n",
       "    </tr>\n",
       "  </tbody>\n",
       "</table>"
      ],
      "text/plain": [
       "                                                                                                                                                                                                                                                                                                                                                                                                                                                                                                                                                                                                                                                                                                                                                                                                                                                                                                                                                                                                                                                                                                                                                                                                                                                                                                                                                                                                                                                            Core                                                                                                                                                                                                                                                                                                                                                                                                                                                                                                                                                                                                                                                                                                                                                                                                                                                                                                                                                                                                                                                                                                                                                                                                                                                                                                                                                                                                                                                                                                                                                                                                                                                                                                                                                                                                                                                                                                                                                                                                                                                                                                                                                 R1                                                                                                                                                                                                                                                                                                                                                                                                                                                                                                                                                                                                                                                                                                                                                                                                                                                                                                                                                                                                                                                                                                                                                                                                                                                                                                                                                                                                                                             R2\n",
       "0  <img src=\"data:image/png;base64,iVBORw0KGgoAAAANSUhEUgAAAMgAAADICAIAAAAiOjnJAAADwUlEQVR4nO3d23KiWABA0TA1/530lzMPVFkZ20ZQdnPJWk+ImhDZdTjiJcM4jh+wtX/23gCuSVgkhEVCWCSERUJYJIRFQlgkhEVCWCSERUJYJIRFQlgkhEVCWCSERUJYJIRFQlgkhEVCWCSERUJYJIRFQlgkhEVCWCSERUJYJIRFQlgkhEVCWCSERUJYJIRFQlgkhEVCWCSERUJYJIRFQlgkhEVCWCSERUJYJIRFQlgkhEVCWCSERUJYJIRFQlgkhEVCWCSERUJYJIRFQlgkhEVCWCSERUJYJIRFQlgkhLWxYRiGYdh7K/b3794bcCnDMIzjOC1Ma6aLP5CwEreevo9ePyqy4Uf9tanbcDVzg2nhJzzmwtrG06rubjwtXPjBF9YGVlV1d8fb8sV2hDnWnr7HdLFhzIj1rpeHq5kfOC2cetcI6y2bV3X3w6eFM+4jYb0ureruF92Wz7K/zLFO4IxTMSPWi/7acDWzAR8Hzstrha/YvaqPAyc1EdZqR6jq+IRFQljrGK4WEtYKqlpOWEupahVhkRDWIoartYT1nKpeIKwnVPUaYZEQ1hzD1cuE9UeqeoewHlPVm4RFQlgPGK7eJ6x7qtrEgd6a/PX1NX/xbs3ya5dT1VYOFNbH/2O6tTJfzCY9sbljhfXQfF4z18409+vXr4frDVdbOUFYDy059s0fOh+udyjcyrHCujsULrzlhsZx1NYmDhqWmdPZHfR0w1bP8l4wDVq7/OorOWhY+9LW+84aVj2eaetNJqpzDj6RP/LmnXXE4uCENccB8WXCemIcR+c+XiCs53Y893FewiIhrEUMWmsJayltrSKsFbS1nLBICGsdg9ZCwlpNW0sI66wO/pLAcV/FPLhdxq0T/YsKYR3dlO/06Y8T7SxhHdHy9/4f1rHe886Sj1KeghGLhGeFJIRFQlgkhEXCs8J3zXz70vwHuy/+se+R93x+fj68+H393W2eXnsBDoWVH/61XsLKfX9V8feervpeCSdI3zUzx/r4W99weUR7H4tPb2a2ND95uuTU6kZY71oyeX96r+sxxyLhPFbo93Naf5rIX2+mZfJOwqGQhLBICIuEsEgIi4SwSAiLhLBICIuEsEgIi4SwSAiLhLBICIuEsEgIi4SwSAiLhLBICIuEsEgIi4SwSAiLhLBICIuEsEgIi4SwSAiLhLBICIuEsEgIi4SwSAiLhLBICIuEsEgIi4SwSAiLhLBICIuEsEgIi4SwSAiLhLBICIuEsEgIi4SwSAiLhLBICIuEsEgIi4SwSAiLxH+njyFQeLJU4gAAAABJRU5ErkJggg==\" alt=\"Mol\"/>  <img src=\"data:image/png;base64,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\" alt=\"Mol\"/>  <img src=\"data:image/png;base64,iVBORw0KGgoAAAANSUhEUgAAAMgAAADICAIAAAAiOjnJAAADtklEQVR4nO3cW1LiUBRAUdPVM3YAMAAdc/rDLtqGmOBjQ0jW+rDEByZkc3NAimEcxyf4ab/uvQFsk7BICIuEsEgIi4SwSAiLhLBICIuEsEgIi4SwSAiLhLBICIuEsEgIi4SwSAiLhLBICIuEsEgIi4SwSAiLhLBICIuEsEgIi4SwSAiLhLBICIuEsEgIi4SwSAiLhLBICIuEsEgIi4SwSAiLhLBICIuEsEgIi4SwSAiLhLBICIuEsEgIi4SwSAiLhLBICIuEsEgIi4SwSAiLhLBICIuEsEgIi4SwSAiLhLBICIuEsEgIi4SwSGw2rNfX18Wv3NgKN6mz2bC4L2GREBaJ3/fegNAKJ5gVblJky2E9Pz+/v7iGg7rCTYo4FZIQFglhkRjGcbz3NrBBViwSOw3rZg/HNvy4b8G4Vy8vLxv4E6u137DG+MDvuapx52GN2eHfeVWjsMYgAlWN47jT4Z3cvctehR9cYyxXb4T1148EoaoTYf3zzSxU9Z6w/vPlOFR1RljnvpCIqi75J/SEYfjEzfKpH94PTzdMGMdxGIZ7b8VjE9a3WK4+Iqxp1yxaqpohrA/Nt6WqecKaY9j6MmEtmGzLcrVIWMvO2lLVNYT1Oaq6krCuYtj6LGFd660ty9WVtvzeDT/obbk6rVvyWuQuuGCyJEvXIjfQh+YXJ0vXPDPWhOPx+LYmzXTz98Uhw2Con2TF+s/xeDx9vJ4z4yW3yD/H4/GzSZ04M54R1tPTVxeqS8MwHA6H71/PBuw9rJ9Kqr7Oh7PrsL5z7rvmyp92nNeuw7qB3eYlrFvYYV7Cup1d5SWsW0sHu/UQFgn/0iEhLBIP/Hqss0nl/cXT55PTzPx3b2wbezGheEOI2zgcDpMX33/97GcWv3t729iLSxs8Fc7fg1d6/77w6HuxwbBO3j+wvzwSj/Kw/0H34oGfbpiZTp6WbvH1HI9t7MWEe5+Lv25mzpgfO1Y1lGxjLy5tJKzxg7F38bfubht7cWnLMxZ39MDPY824fDbooxF4vTPKg+/FAw/vrJlTIQlhkRAWCWGREBYJYZEQFglhkRAWCWGREBYJYZEQFglhkRAWCWGREBYJYZEQFglhkRAWCWGREBYJYZEQFglhkRAWCWGREBYJYZEQFglhkRAWCWGREBYJYZEQFglhkRAWCWGREBYJYZEQFglhkRAWCWGREBYJYZEQFglhkRAWCWGREBYJYZEQFglhkRAWCWGREBYJYZEQFglhkRAWCWGREBYJYZEQFglhkfgDCB/SM1YDxrIAAAAASUVORK5CYII=\" alt=\"Mol\"/>\n",
       "1  <img src=\"data:image/png;base64,iVBORw0KGgoAAAANSUhEUgAAAMgAAADICAIAAAAiOjnJAAADwUlEQVR4nO3d23KiWABA0TA1/530lzMPVFkZ20ZQdnPJWk+ImhDZdTjiJcM4jh+wtX/23gCuSVgkhEVCWCSERUJYJIRFQlgkhEVCWCSERUJYJIRFQlgkhEVCWCSERUJYJIRFQlgkhEVCWCSERUJYJIRFQlgkhEVCWCSERUJYJIRFQlgkhEVCWCSERUJYJIRFQlgkhEVCWCSERUJYJIRFQlgkhEVCWCSERUJYJIRFQlgkhEVCWCSERUJYJIRFQlgkhEVCWCSERUJYJIRFQlgkhEVCWCSERUJYJIRFQlgkhLWxYRiGYdh7K/b3794bcCnDMIzjOC1Ma6aLP5CwEreevo9ePyqy4Uf9tanbcDVzg2nhJzzmwtrG06rubjwtXPjBF9YGVlV1d8fb8sV2hDnWnr7HdLFhzIj1rpeHq5kfOC2cetcI6y2bV3X3w6eFM+4jYb0ureruF92Wz7K/zLFO4IxTMSPWi/7acDWzAR8Hzstrha/YvaqPAyc1EdZqR6jq+IRFQljrGK4WEtYKqlpOWEupahVhkRDWIoartYT1nKpeIKwnVPUaYZEQ1hzD1cuE9UeqeoewHlPVm4RFQlgPGK7eJ6x7qtrEgd6a/PX1NX/xbs3ya5dT1VYOFNbH/2O6tTJfzCY9sbljhfXQfF4z18409+vXr4frDVdbOUFYDy059s0fOh+udyjcyrHCujsULrzlhsZx1NYmDhqWmdPZHfR0w1bP8l4wDVq7/OorOWhY+9LW+84aVj2eaetNJqpzDj6RP/LmnXXE4uCENccB8WXCemIcR+c+XiCs53Y893FewiIhrEUMWmsJayltrSKsFbS1nLBICGsdg9ZCwlpNW0sI66wO/pLAcV/FPLhdxq0T/YsKYR3dlO/06Y8T7SxhHdHy9/4f1rHe886Sj1KeghGLhGeFJIRFQlgkhEXCs8J3zXz70vwHuy/+se+R93x+fj68+H393W2eXnsBDoWVH/61XsLKfX9V8feervpeCSdI3zUzx/r4W99weUR7H4tPb2a2ND95uuTU6kZY71oyeX96r+sxxyLhPFbo93Naf5rIX2+mZfJOwqGQhLBICIuEsEgIi4SwSAiLhLBICIuEsEgIi4SwSAiLhLBICIuEsEgIi4SwSAiLhLBICIuEsEgIi4SwSAiLhLBICIuEsEgIi4SwSAiLhLBICIuEsEgIi4SwSAiLhLBICIuEsEgIi4SwSAiLhLBICIuEsEgIi4SwSAiLhLBICIuEsEgIi4SwSAiLhLBICIuEsEgIi4SwSAiLxH+njyFQeLJU4gAAAABJRU5ErkJggg==\" alt=\"Mol\"/>  <img src=\"data:image/png;base64,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\" alt=\"Mol\"/>                                                                                                                                                                              <img src=\"data:image/png;base64,iVBORw0KGgoAAAANSUhEUgAAAMgAAADICAIAAAAiOjnJAAADNUlEQVR4nO3dW27aQABA0VB1x1lAvIGs2f1IRRF2sN32AjbnfETBBImBy8zgvE7jOL7B//bj0XeAYxIWCWGREBYJYZEQFglhkRAWCWGREBYJYZEQFglhkRAWCWGREBYJYZEQFglhkRAWCWGREBYJYZEQFglhkRAWCWGREBYJYZEQFglhkRAWCWGREBYJYZEQFglhkRAWCWGREBYJYZEQFglhkRAWCWGREBYJYZEQFglhkRAWCWGREBYJYZEQFglhkRAWCWGREBYJYZEQFglhkRAWCWGREBYJYZEQFglhkRAWCWEt+/z8XDzCFWGREBYJYZH4+eg7sA82VVsJa5X39/fLizpbZCkkISwSwiJxGsfx0feBAzJjkRAWCWFt4CzDesIiISwSwiIhLBLCIiEsEsIiISwSwiLhm9AbnE5vHq2VzFgkhEVCWCSERUJYJIRFQlgkhEVCWBs4O7qesEgIi4SwSAiLhLBICIuEsJadTstHuCKsVZS0lbBWGUdtbSMsEsJay6S1ibA20NZ6wpqxqR6pzRLWtdu/4zWdtL6OyOuKfyDwx1cciz8bM9vW+pu/CDPWb8MwjON8FtOD332ZTdiZGettGIbzx393buvFp66XDuv/JnV2XhlfuS1/uyEUhbsLwsq9Zl7CupNhGF6qLWHdz0tNXcK6txeZuoRFwglSEjs+j3W1oFxePH8+u+jcvvbOjjGKGeNufXx8zF68PH71NYvX3t8xRjF1wKXw9iv4SV/fE3sfxQHDOrt8/zV9Jvby7myno9jxu8Ibu5O3pUf8eZ6PY4xixqPX4r93Y59xe9vxVJuSY4xi6iBhjd9sexdv9XDHGMXUkfdYPNCOz2PdMD0b9N0W+Hn3KDsfxY437zwzSyEJYZEQFglhkRAWCWGREBYJYZEQFglhkRAWCWGREBYJYZEQFglhkRAWCWGREBYJYZEQFglhkRAWCWGREBYJYZEQFglhkRAWCWGREBYJYZEQFglhkRAWCWGREBYJYZEQFglhkRAWCWGREBYJYZEQFglhkRAWCWGREBYJYZEQFglhkRAWCWGREBYJYZEQFglhkRAWCWGREBYJYZEQFglhkfgFIwWQ5HnVLYIAAAAASUVORK5CYII=\" alt=\"Mol\"/>\n",
       "2  <img src=\"data:image/png;base64,iVBORw0KGgoAAAANSUhEUgAAAMgAAADICAIAAAAiOjnJAAADwUlEQVR4nO3d23KiWABA0TA1/530lzMPVFkZ20ZQdnPJWk+ImhDZdTjiJcM4jh+wtX/23gCuSVgkhEVCWCSERUJYJIRFQlgkhEVCWCSERUJYJIRFQlgkhEVCWCSERUJYJIRFQlgkhEVCWCSERUJYJIRFQlgkhEVCWCSERUJYJIRFQlgkhEVCWCSERUJYJIRFQlgkhEVCWCSERUJYJIRFQlgkhEVCWCSERUJYJIRFQlgkhEVCWCSERUJYJIRFQlgkhEVCWCSERUJYJIRFQlgkhEVCWCSERUJYJIRFQlgkhLWxYRiGYdh7K/b3794bcCnDMIzjOC1Ma6aLP5CwEreevo9ePyqy4Uf9tanbcDVzg2nhJzzmwtrG06rubjwtXPjBF9YGVlV1d8fb8sV2hDnWnr7HdLFhzIj1rpeHq5kfOC2cetcI6y2bV3X3w6eFM+4jYb0ureruF92Wz7K/zLFO4IxTMSPWi/7acDWzAR8Hzstrha/YvaqPAyc1EdZqR6jq+IRFQljrGK4WEtYKqlpOWEupahVhkRDWIoartYT1nKpeIKwnVPUaYZEQ1hzD1cuE9UeqeoewHlPVm4RFQlgPGK7eJ6x7qtrEgd6a/PX1NX/xbs3ya5dT1VYOFNbH/2O6tTJfzCY9sbljhfXQfF4z18409+vXr4frDVdbOUFYDy059s0fOh+udyjcyrHCujsULrzlhsZx1NYmDhqWmdPZHfR0w1bP8l4wDVq7/OorOWhY+9LW+84aVj2eaetNJqpzDj6RP/LmnXXE4uCENccB8WXCemIcR+c+XiCs53Y893FewiIhrEUMWmsJayltrSKsFbS1nLBICGsdg9ZCwlpNW0sI66wO/pLAcV/FPLhdxq0T/YsKYR3dlO/06Y8T7SxhHdHy9/4f1rHe886Sj1KeghGLhGeFJIRFQlgkhEXCs8J3zXz70vwHuy/+se+R93x+fj68+H393W2eXnsBDoWVH/61XsLKfX9V8feervpeCSdI3zUzx/r4W99weUR7H4tPb2a2ND95uuTU6kZY71oyeX96r+sxxyLhPFbo93Naf5rIX2+mZfJOwqGQhLBICIuEsEgIi4SwSAiLhLBICIuEsEgIi4SwSAiLhLBICIuEsEgIi4SwSAiLhLBICIuEsEgIi4SwSAiLhLBICIuEsEgIi4SwSAiLhLBICIuEsEgIi4SwSAiLhLBICIuEsEgIi4SwSAiLhLBICIuEsEgIi4SwSAiLhLBICIuEsEgIi4SwSAiLhLBICIuEsEgIi4SwSAiLxH+njyFQeLJU4gAAAABJRU5ErkJggg==\" alt=\"Mol\"/>  <img src=\"data:image/png;base64,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\" alt=\"Mol\"/>                                                                                                                                                                                                                          <img src=\"data:image/png;base64,iVBORw0KGgoAAAANSUhEUgAAAMgAAADICAIAAAAiOjnJAAADE0lEQVR4nO3Y0Y6aUBRAUWz63/rn9MHWOoI4bdwqsNbDREZMvLqFA4dxHAd4th/vfgNsk7BICIuEsEgIi4SwSAiLhLBICIuEsEgIi4SwSAiLhLBICIuEsEgIi4SwSAiLhLBICIuEsEgIi4SwSAiLhLBICIuEsEgIi4SwSAiLhLBICIuEsEgIi4SwSAiLhLBICIuEsEgIi4SwSAiLhLBICIuEsEgIi4SwSAiLhLBICIuEsEgIi4SwSAiLhLBICIuEsEgIi4SwSAiLhLBICIuEsEgIi4SwSAiLhLBICIuEsEgIi4SwSAiLhLBICIuEsEgIi4SwSAiLhLBICIuEsEgIi4SwSAiLhLBICIvEz3e/gZU4HP4+Hsf3vY/VENY3HA5fYrrZZI5T4SPTjMbxywGMOcIiISwSwiIhrDn/NEKZt+YIa+JmWp+O6rM7yOurw+jK+eIcx+wH8p37WAsv3x9HrN9Op9MwjnezOD+1sMNlH4euYRjcIB3OSf35+wSXtvZ96Np1WE9O6uKc1L5v0JuxQlW4ayCs3D7zEtaLnE6nXbUlrNfZ1aFLWK+2k0OXsEi4QUpixfexbk4o15uXx7MnneVnX2wbq5gxrtbxeJzdvP7/zT4Pn329baxiaoOnwuVf8If+vifWvooNhnVxff01/SbWcnW20lWs+KpwYToZHn3in/N9bGMVM959Lv5/C3PG8tjxUUPJNlYxtZGwxjtj78NXvd02VjG15RmLN1rxfawF07tB90bgz51RVr6KFQ/vfDKnQhLCIiEsEsIiISwSwiIhLBLCIiEsEsIiISwSwiIhLBLCIiEsEsIiISwSwiIhLBLCIiEsEsIiISwSwiIhLBLCIiEsEsIiISwSwiIhLBLCIiEsEsIiISwSwiIhLBLCIiEsEsIiISwSwiIhLBLCIiEsEsIiISwSwiIhLBLCIiEsEsIiISwSwiIhLBLCIiEsEsIiISwSwiIhLBLCIiEsEsIiISwSwiIhLBLCIiEsEsIiISwSwiIhLBLCIiEsEsIiISwSwiIhLBLCIiEsEsIiISwSvwAWpYhEQnF3pwAAAABJRU5ErkJggg==\" alt=\"Mol\"/>"
      ]
     },
     "execution_count": 12,
     "metadata": {},
     "output_type": "execute_result"
    }
   ],
   "source": [
    "frame"
   ]
  },
  {
   "cell_type": "code",
   "execution_count": null,
   "metadata": {
    "collapsed": true
   },
   "outputs": [],
   "source": []
  }
 ],
 "metadata": {
  "kernelspec": {
   "display_name": "Python 2",
   "language": "python",
   "name": "python2"
  },
  "language_info": {
   "codemirror_mode": {
    "name": "ipython",
    "version": 2
   },
   "file_extension": ".py",
   "mimetype": "text/x-python",
   "name": "python",
   "nbconvert_exporter": "python",
   "pygments_lexer": "ipython2",
   "version": "2.7.11"
  }
 },
 "nbformat": 4,
 "nbformat_minor": 0
}
