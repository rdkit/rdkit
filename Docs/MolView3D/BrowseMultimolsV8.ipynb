{
 "cells": [
  {
   "cell_type": "markdown",
   "metadata": {},
   "source": [
    "### RDKit Conformer Browser\n",
    "Derived from Greg Landrum's code by Malitha Humayun Kabir<br>\n",
    "As a part of GSoC 2017 <br>\n",
    "Project : RDKit - 3Dmol.js integration <br>\n",
    "Mentors: Paul Czodrowski and Greg Landrum <br>\n",
    "Date: 28th June 2017"
   ]
  },
  {
   "cell_type": "markdown",
   "metadata": {},
   "source": [
    "Note: All the codes requred for conformer browser are in IPythonConsoleIntegration.py. Please feel free to import IPythonConsoleIntegration.py in your work environment as per your convenience. <br>\n",
    "A copy of IPythonConsoleIntegration.py can also be found at the following link: <br> \n",
    "https://github.com/malithakabir/notebook/blob/master/IPythonConsoleIntegration.py"
   ]
  },
  {
   "cell_type": "code",
   "execution_count": 1,
   "metadata": {
    "collapsed": true
   },
   "outputs": [],
   "source": [
    "import IPythonConsoleIntegration as ipy\n",
    "from rdkit import Chem\n",
    "from rdkit.Chem import AllChem\n",
    "from six.moves import urllib"
   ]
  },
  {
   "cell_type": "code",
   "execution_count": 2,
   "metadata": {
    "collapsed": true
   },
   "outputs": [],
   "source": [
    "# Codes from Greg Landrum\n",
    "# obj ms will have no pre calculated propery\n",
    "data = [('m1','COc1ccc2[nH]c([S@@+]([O-])Cc3ncc(C)c(OC)c3C)nc2c1'),\n",
    "       ('m2','COc1ccc2[nH]c([S@+]([O-])Cc3ncc(C)c(OC)c3C)nc2c1'),\n",
    "       ('m3','COc1ccc2[nH]c([S+]([O-])Cc3ncc(C)c(OC)c3C)nc2c1'),\n",
    "       ('m4','CCOc1ccc2[nH]c([S@@+]([O-])Cc3ncc(C)c(OCCC)c3C)nc2c1')]\n",
    "ms = [(x,Chem.AddHs(Chem.MolFromSmiles(y))) for x,y in data]\n",
    "params = AllChem.ETKDG()\n",
    "params.numThreads=3\n",
    "for nm,m in ms:\n",
    "    AllChem.EmbedMultipleConfs(m,numConfs=10,params=params)\n",
    "    # align to one of the ring systems:\n",
    "    AllChem.AlignMolConformers(m,m.GetSubstructMatch(Chem.MolFromSmarts('c1[nH]c2ccccc2n1')))"
   ]
  },
  {
   "cell_type": "code",
   "execution_count": 3,
   "metadata": {
    "collapsed": true
   },
   "outputs": [],
   "source": [
    "# Codes from Paolo Tosco (Slightly modified version)\n",
    "# obj ms2 will have some pre calculated properties\n",
    "url = 'https://github.com/rdkit/rdkit/raw/master/Docs/Book/data/cdk2.sdf'\n",
    "response = urllib.request.urlopen(url)\n",
    "data = response.read()\n",
    "suppl = Chem.SDMolSupplier()\n",
    "suppl.SetData(data)\n",
    "ms2=[mol for mol in suppl]\n",
    "params = AllChem.ETKDG()\n",
    "params.numThreads=3\n",
    "for m in ms2:\n",
    "    AllChem.EmbedMultipleConfs(m,numConfs=10,params=params)"
   ]
  },
  {
   "cell_type": "markdown",
   "metadata": {},
   "source": [
    "# For RDKit Mol object with NO existing properties"
   ]
  },
  {
   "cell_type": "code",
   "execution_count": 4,
   "metadata": {},
   "outputs": [
    {
     "data": {
      "text/html": [
       "<div id=\"3dmolviewer_149876356052\"  style=\"position: relative; width: 400px; height: 400px\">\n",
       "<script>\n",
       "if(typeof $3Dmolpromise === 'undefined') $3Dmolpromise = $.when($.getScript('https://3dmol.csb.pitt.edu/build/3Dmol.js'))\n",
       "var viewer_149876356052 = null;\n",
       "$3Dmolpromise.done(function() {\n",
       "viewer_149876356052 = $3Dmol.createViewer($(\"#3dmolviewer_149876356052\"),{backgroundColor:\"white\"});\n",
       "\tviewer_149876356052.setBackgroundColor(\"black\");\n",
       "viewer_149876356052.render();\n",
       "});\n",
       "</script>"
      ],
      "text/plain": [
       "<IPython.core.display.HTML object>"
      ]
     },
     "execution_count": 4,
     "metadata": {},
     "output_type": "execute_result"
    }
   ],
   "source": [
    "view=ipy.startViewer(bgcolor='black')\n",
    "view.show()"
   ]
  },
  {
   "cell_type": "code",
   "execution_count": 5,
   "metadata": {},
   "outputs": [
    {
     "data": {
      "application/vnd.jupyter.widget-view+json": {
       "model_id": "2afdbec1b89743fabde0185157465cb7"
      }
     },
     "metadata": {},
     "output_type": "display_data"
    },
    {
     "data": {
      "text/html": [
       "<script>\n",
       "            $3Dmolpromise.done(function() { //wrap in promise for non-interactive functionality\n",
       "                \tviewer_149876356052.removeAllModels();\n",
       "\tviewer_149876356052.removeAllSurfaces();\n",
       "\tviewer_149876356052.removeAllLabels();\n",
       "\tviewer_149876356052.addModel(\"\\n     RDKit          3D\\n\\n 52 54  0  0  0  0  0  0  0  0999 V2000\\n    9.4255    0.2305    0.8545 C   0  0  0  0  0  0  0  0  0  0  0  0\\n    8.9671   -0.3972   -0.3897 C   0  0  0  0  0  0  0  0  0  0  0  0\\n    7.7426   -0.9695   -0.5435 O   0  0  0  0  0  0  0  0  0  0  0  0\\n    6.5105   -0.3438   -0.4107 C   0  0  0  0  0  0  0  0  0  0  0  0\\n    6.4189    0.9572    0.0061 C   0  0  0  0  0  0  0  0  0  0  0  0\\n    5.1139    1.5072    0.0728 C   0  0  0  0  0  0  0  0  0  0  0  0\\n    4.0090    0.7694   -0.2548 C   0  0  0  0  0  0  0  0  0  0  0  0\\n    2.6750    1.0691   -0.3776 N   0  0  0  0  0  0  0  0  0  0  0  0\\n    1.9889    0.0487   -0.8325 C   0  0  0  0  0  0  0  0  0  0  0  0\\n    0.3306   -0.1550   -1.2729 S   0  0  0  0  0  0  0  0  0  0  0  0\\n    0.0315   -1.8493   -0.7538 O   0  0  0  0  0  0  0  0  0  0  0  0\\n   -0.6917    0.5540    0.1284 C   0  0  0  0  0  0  0  0  0  0  0  0\\n   -2.0561    0.2523   -0.4121 C   0  0  0  0  0  0  0  0  0  0  0  0\\n   -2.3273    0.6244   -1.6580 N   0  0  0  0  0  0  0  0  0  0  0  0\\n   -3.5319    0.4254   -2.2232 C   0  0  0  0  0  0  0  0  0  0  0  0\\n   -4.4950   -0.2080   -1.4264 C   0  0  0  0  0  0  0  0  0  0  0  0\\n   -5.7476   -0.5809   -2.1924 C   0  0  0  0  0  0  0  0  0  0  0  0\\n   -4.2200   -0.5795   -0.1561 C   0  0  0  0  0  0  0  0  0  0  0  0\\n   -5.2021   -1.2011    0.6326 O   0  0  0  0  0  0  0  0  0  0  0  0\\n   -5.8423   -0.5839    1.6848 C   0  0  0  0  0  0  0  0  0  0  0  0\\n   -6.5865    0.6704    1.4884 C   0  0  0  0  0  0  0  0  0  0  0  0\\n   -7.8416    0.6460    0.7136 C   0  0  0  0  0  0  0  0  0  0  0  0\\n   -2.9625   -0.3565    0.4112 C   0  0  0  0  0  0  0  0  0  0  0  0\\n   -2.5470   -0.8533    1.7187 C   0  0  0  0  0  0  0  0  0  0  0  0\\n    2.9229   -0.9629   -1.0006 N   0  0  0  0  0  0  0  0  0  0  0  0\\n    4.1301   -0.5283   -0.6610 C   0  0  0  0  0  0  0  0  0  0  0  0\\n    5.3881   -1.1012   -0.7402 C   0  0  0  0  0  0  0  0  0  0  0  0\\n    8.7278    0.1392    1.7033 H   0  0  0  0  0  0  0  0  0  0  0  0\\n   10.4309   -0.1524    1.2457 H   0  0  0  0  0  0  0  0  0  0  0  0\\n    9.6633    1.3518    0.7057 H   0  0  0  0  0  0  0  0  0  0  0  0\\n    9.7662   -1.1226   -0.7317 H   0  0  0  0  0  0  0  0  0  0  0  0\\n    8.9710    0.4435   -1.2203 H   0  0  0  0  0  0  0  0  0  0  0  0\\n    7.2735    1.5482    0.2565 H   0  0  0  0  0  0  0  0  0  0  0  0\\n    5.0493    2.5213    0.3949 H   0  0  0  0  0  0  0  0  0  0  0  0\\n    2.2969    1.9965   -0.1458 H   0  0  0  0  0  0  0  0  0  0  0  0\\n   -0.3723    0.2868    1.0476 H   0  0  0  0  0  0  0  0  0  0  0  0\\n   -0.5813    1.6657   -0.0960 H   0  0  0  0  0  0  0  0  0  0  0  0\\n   -3.7213    0.7619   -3.2296 H   0  0  0  0  0  0  0  0  0  0  0  0\\n   -6.0204    0.2489   -2.8416 H   0  0  0  0  0  0  0  0  0  0  0  0\\n   -5.3505   -1.3829   -2.9124 H   0  0  0  0  0  0  0  0  0  0  0  0\\n   -6.5013   -1.0341   -1.5704 H   0  0  0  0  0  0  0  0  0  0  0  0\\n   -5.2668   -0.5557    2.6566 H   0  0  0  0  0  0  0  0  0  0  0  0\\n   -6.6692   -1.3574    2.0097 H   0  0  0  0  0  0  0  0  0  0  0  0\\n   -5.9180    1.4668    0.9876 H   0  0  0  0  0  0  0  0  0  0  0  0\\n   -6.7970    1.1018    2.5149 H   0  0  0  0  0  0  0  0  0  0  0  0\\n   -7.8180    0.4082   -0.3265 H   0  0  0  0  0  0  0  0  0  0  0  0\\n   -8.2962    1.6901    0.8187 H   0  0  0  0  0  0  0  0  0  0  0  0\\n   -8.6269   -0.0078    1.1707 H   0  0  0  0  0  0  0  0  0  0  0  0\\n   -1.7968   -0.2154    2.2356 H   0  0  0  0  0  0  0  0  0  0  0  0\\n   -3.3507   -0.9988    2.3941 H   0  0  0  0  0  0  0  0  0  0  0  0\\n   -2.1011   -1.9135    1.5807 H   0  0  0  0  0  0  0  0  0  0  0  0\\n    5.4059   -2.1320   -1.0533 H   0  0  0  0  0  0  0  0  0  0  0  0\\n  1  2  1  0\\n  2  3  1  0\\n  3  4  1  0\\n  4  5  2  0\\n  5  6  1  0\\n  6  7  2  0\\n  7  8  1  0\\n  8  9  1  0\\n  9 10  1  0\\n 10 11  1  1\\n 10 12  1  0\\n 12 13  1  0\\n 13 14  2  0\\n 14 15  1  0\\n 15 16  2  0\\n 16 17  1  0\\n 16 18  1  0\\n 18 19  1  0\\n 19 20  1  0\\n 20 21  1  0\\n 21 22  1  0\\n 18 23  2  0\\n 23 24  1  0\\n  9 25  2  0\\n 25 26  1  0\\n 26 27  2  0\\n 27  4  1  0\\n 26  7  1  0\\n 23 13  1  0\\n  1 28  1  0\\n  1 29  1  0\\n  1 30  1  0\\n  2 31  1  0\\n  2 32  1  0\\n  5 33  1  0\\n  6 34  1  0\\n  8 35  1  0\\n 12 36  1  0\\n 12 37  1  0\\n 15 38  1  0\\n 17 39  1  0\\n 17 40  1  0\\n 17 41  1  0\\n 20 42  1  0\\n 20 43  1  0\\n 21 44  1  0\\n 21 45  1  0\\n 22 46  1  0\\n 22 47  1  0\\n 22 48  1  0\\n 24 49  1  0\\n 24 50  1  0\\n 24 51  1  0\\n 27 52  1  0\\nM  CHG  2  10   1  11  -1\\nM  END\\n\",\"sdf\");\n",
       "\tviewer_149876356052.setStyle({},{\"stick\": {\"colorscheme\": \"default\"}});\n",
       "\n",
       "                viewer_149876356052.render();\n",
       "            });\n",
       "            </script>"
      ],
      "text/plain": [
       "<IPython.core.display.HTML object>"
      ]
     },
     "metadata": {},
     "output_type": "display_data"
    },
    {
     "data": {
      "text/plain": [
       "<function IPythonConsoleIntegration.addMolToViewForScrolling>"
      ]
     },
     "execution_count": 5,
     "metadata": {},
     "output_type": "execute_result"
    }
   ],
   "source": [
    "ipy.browseMolConformers(ms,view,confId=(0, 9),useDrawAs=True,drawAs='stick')"
   ]
  },
  {
   "cell_type": "code",
   "execution_count": 6,
   "metadata": {},
   "outputs": [
    {
     "data": {
      "text/html": [
       "<script>\n",
       "            $3Dmolpromise.done(function() { //wrap in promise for non-interactive functionality\n",
       "                \tviewer_149876356052.zoomTo();\n",
       "\n",
       "                viewer_149876356052.render();\n",
       "            });\n",
       "            </script>"
      ],
      "text/plain": [
       "<IPython.core.display.HTML object>"
      ]
     },
     "execution_count": 6,
     "metadata": {},
     "output_type": "execute_result"
    }
   ],
   "source": [
    "view.zoomTo()\n",
    "view.update()"
   ]
  },
  {
   "cell_type": "code",
   "execution_count": 7,
   "metadata": {},
   "outputs": [
    {
     "data": {
      "text/html": [
       "<script>\n",
       "            $3Dmolpromise.done(function() { //wrap in promise for non-interactive functionality\n",
       "                \tviewer_149876356052.setBackgroundColor(\"0xeeeeee\");\n",
       "\n",
       "                viewer_149876356052.render();\n",
       "            });\n",
       "            </script>"
      ],
      "text/plain": [
       "<IPython.core.display.HTML object>"
      ]
     },
     "execution_count": 7,
     "metadata": {},
     "output_type": "execute_result"
    }
   ],
   "source": [
    "# Changing background color is possible too\n",
    "view.setBackgroundColor('0xeeeeee')\n",
    "view.update()"
   ]
  },
  {
   "cell_type": "markdown",
   "metadata": {},
   "source": [
    "# For RDKit Mol object with existing properties"
   ]
  },
  {
   "cell_type": "code",
   "execution_count": 8,
   "metadata": {},
   "outputs": [
    {
     "data": {
      "text/html": [
       "<div id=\"3dmolviewer_149876358943\"  style=\"position: relative; width: 400px; height: 400px\">\n",
       "<script>\n",
       "if(typeof $3Dmolpromise === 'undefined') $3Dmolpromise = $.when($.getScript('https://3dmol.csb.pitt.edu/build/3Dmol.js'))\n",
       "var viewer_149876358943 = null;\n",
       "$3Dmolpromise.done(function() {\n",
       "viewer_149876358943 = $3Dmol.createViewer($(\"#3dmolviewer_149876358943\"),{backgroundColor:\"white\"});\n",
       "\tviewer_149876358943.setBackgroundColor(\"black\");\n",
       "viewer_149876358943.render();\n",
       "});\n",
       "</script>"
      ],
      "text/plain": [
       "<IPython.core.display.HTML object>"
      ]
     },
     "execution_count": 8,
     "metadata": {},
     "output_type": "execute_result"
    }
   ],
   "source": [
    "view2=ipy.startViewer(bgcolor='black')\n",
    "view2.show()"
   ]
  },
  {
   "cell_type": "code",
   "execution_count": 9,
   "metadata": {},
   "outputs": [
    {
     "data": {
      "application/vnd.jupyter.widget-view+json": {
       "model_id": "a736db2cb7da46e29d768cedb2fc3539"
      }
     },
     "metadata": {},
     "output_type": "display_data"
    },
    {
     "data": {
      "text/html": [
       "<script>\n",
       "            $3Dmolpromise.done(function() { //wrap in promise for non-interactive functionality\n",
       "                \tviewer_149876358943.removeAllModels();\n",
       "\tviewer_149876358943.removeAllSurfaces();\n",
       "\tviewer_149876358943.removeAllLabels();\n",
       "\tviewer_149876358943.addModel(\"ZINC04617745\\n     RDKit          3D\\n\\n 28 31  0  0  1  0  0  0  0  0999 V2000\\n    4.2771    3.4143    0.6548 C   0  0  0  0  0  0  0  0  0  0  0  0\\n    3.2970    1.4976    1.6778 C   0  0  0  0  0  0  0  0  0  0  0  0\\n    2.0109    1.6184    0.7204 C   0  0  0  0  0  0  0  0  0  0  0  0\\n    2.2105    0.5345   -0.2446 C   0  0  0  0  0  0  0  0  0  0  0  0\\n    3.5065    0.3792   -0.8846 C   0  0  0  0  0  0  0  0  0  0  0  0\\n    4.5377    1.3626   -0.4371 C   0  0  0  0  0  0  0  0  0  0  0  0\\n    3.3978    0.4947   -2.2945 O   0  0  0  0  0  0  0  0  0  0  0  0\\n    1.4544   -0.6863   -0.0517 C   0  0  0  0  0  0  0  0  0  0  0  0\\n    2.2964   -1.8490   -0.1139 C   0  0  0  0  0  0  0  0  0  0  0  0\\n    1.7980   -3.1084   -0.0567 C   0  0  0  0  0  0  0  0  0  0  0  0\\n    0.4171   -3.2465    0.0697 C   0  0  0  0  0  0  0  0  0  0  0  0\\n   -0.3752   -2.1304    0.1234 C   0  0  0  0  0  0  0  0  0  0  0  0\\n    0.0924   -0.8252    0.0666 C   0  0  0  0  0  0  0  0  0  0  0  0\\n   -0.6834    0.2280    0.1040 O   0  0  0  0  0  0  0  0  0  0  0  0\\n   -1.9845    0.1323    0.1919 C   0  0  0  0  0  0  0  0  0  0  0  0\\n   -2.5139   -1.1806    0.2519 C   0  0  0  0  0  0  0  0  0  0  0  0\\n   -1.7597   -2.3064    0.2224 C   0  0  0  0  0  0  0  0  0  0  0  0\\n   -2.1955   -3.4816    0.2663 O   0  0  0  0  0  0  0  0  0  0  0  0\\n   -3.0007    1.1509    0.2348 C   0  0  0  0  0  0  0  0  0  0  0  0\\n   -3.3869    1.7533    1.3949 C   0  0  0  0  0  0  0  0  0  0  0  0\\n   -4.4492    2.6774    1.4138 C   0  0  0  0  0  0  0  0  0  0  0  0\\n   -5.1396    3.0221    0.2722 C   0  0  0  0  0  0  0  0  0  0  0  0\\n   -4.7461    2.4108   -0.9255 C   0  0  0  0  0  0  0  0  0  0  0  0\\n   -3.6720    1.4834   -0.8983 C   0  0  0  0  0  0  0  0  0  0  0  0\\n   -3.3081    0.8139   -2.4954 Cl  0  0  0  0  0  0  0  0  0  0  0  0\\n   -0.1594   -4.5085    0.1495 O   0  0  0  0  0  0  0  0  0  0  0  0\\n    3.6972   -1.6166   -0.2313 O   0  0  0  0  0  0  0  0  0  0  0  0\\n    4.3812    1.9660    0.8191 N   0  0  0  0  0  0  0  0  0  0  0  0\\n  1 28  1  0\\n  2  3  1  0\\n  2 28  1  0\\n  3  4  1  0\\n  4  5  1  0\\n  4  8  1  0\\n  5  6  1  0\\n  5  7  1  0\\n  6 28  1  0\\n  8 13  1  0\\n  8  9  2  0\\n  9 10  1  0\\n  9 27  1  0\\n 10 11  2  0\\n 11 12  1  0\\n 11 26  1  0\\n 12 17  1  0\\n 12 13  2  0\\n 13 14  1  0\\n 14 15  1  0\\n 15 16  2  0\\n 15 19  1  0\\n 16 17  1  0\\n 17 18  2  0\\n 19 24  1  0\\n 19 20  2  0\\n 20 21  1  0\\n 21 22  2  0\\n 22 23  1  0\\n 23 24  2  0\\n 24 25  1  0\\nM  CHG  1  28   1\\nM  END\\n\",\"sdf\");\n",
       "\tviewer_149876358943.setStyle({},{\"stick\": {\"colorscheme\": \"default\"}});\n",
       "\n",
       "                viewer_149876358943.render();\n",
       "            });\n",
       "            </script>"
      ],
      "text/plain": [
       "<IPython.core.display.HTML object>"
      ]
     },
     "metadata": {},
     "output_type": "display_data"
    },
    {
     "data": {
      "text/html": [
       "<script>\n",
       "            $3Dmolpromise.done(function() { //wrap in promise for non-interactive functionality\n",
       "                \tviewer_149876358943.removeAllModels();\n",
       "\tviewer_149876358943.removeAllSurfaces();\n",
       "\tviewer_149876358943.removeAllLabels();\n",
       "\tviewer_149876358943.addModel(\"ZINC04617745\\n     RDKit          3D\\n\\n 28 31  0  0  1  0  0  0  0  0999 V2000\\n    4.2771    3.4143    0.6548 C   0  0  0  0  0  0  0  0  0  0  0  0\\n    3.2970    1.4976    1.6778 C   0  0  0  0  0  0  0  0  0  0  0  0\\n    2.0109    1.6184    0.7204 C   0  0  0  0  0  0  0  0  0  0  0  0\\n    2.2105    0.5345   -0.2446 C   0  0  0  0  0  0  0  0  0  0  0  0\\n    3.5065    0.3792   -0.8846 C   0  0  0  0  0  0  0  0  0  0  0  0\\n    4.5377    1.3626   -0.4371 C   0  0  0  0  0  0  0  0  0  0  0  0\\n    3.3978    0.4947   -2.2945 O   0  0  0  0  0  0  0  0  0  0  0  0\\n    1.4544   -0.6863   -0.0517 C   0  0  0  0  0  0  0  0  0  0  0  0\\n    2.2964   -1.8490   -0.1139 C   0  0  0  0  0  0  0  0  0  0  0  0\\n    1.7980   -3.1084   -0.0567 C   0  0  0  0  0  0  0  0  0  0  0  0\\n    0.4171   -3.2465    0.0697 C   0  0  0  0  0  0  0  0  0  0  0  0\\n   -0.3752   -2.1304    0.1234 C   0  0  0  0  0  0  0  0  0  0  0  0\\n    0.0924   -0.8252    0.0666 C   0  0  0  0  0  0  0  0  0  0  0  0\\n   -0.6834    0.2280    0.1040 O   0  0  0  0  0  0  0  0  0  0  0  0\\n   -1.9845    0.1323    0.1919 C   0  0  0  0  0  0  0  0  0  0  0  0\\n   -2.5139   -1.1806    0.2519 C   0  0  0  0  0  0  0  0  0  0  0  0\\n   -1.7597   -2.3064    0.2224 C   0  0  0  0  0  0  0  0  0  0  0  0\\n   -2.1955   -3.4816    0.2663 O   0  0  0  0  0  0  0  0  0  0  0  0\\n   -3.0007    1.1509    0.2348 C   0  0  0  0  0  0  0  0  0  0  0  0\\n   -3.3869    1.7533    1.3949 C   0  0  0  0  0  0  0  0  0  0  0  0\\n   -4.4492    2.6774    1.4138 C   0  0  0  0  0  0  0  0  0  0  0  0\\n   -5.1396    3.0221    0.2722 C   0  0  0  0  0  0  0  0  0  0  0  0\\n   -4.7461    2.4108   -0.9255 C   0  0  0  0  0  0  0  0  0  0  0  0\\n   -3.6720    1.4834   -0.8983 C   0  0  0  0  0  0  0  0  0  0  0  0\\n   -3.3081    0.8139   -2.4954 Cl  0  0  0  0  0  0  0  0  0  0  0  0\\n   -0.1594   -4.5085    0.1495 O   0  0  0  0  0  0  0  0  0  0  0  0\\n    3.6972   -1.6166   -0.2313 O   0  0  0  0  0  0  0  0  0  0  0  0\\n    4.3812    1.9660    0.8191 N   0  0  0  0  0  0  0  0  0  0  0  0\\n  1 28  1  0\\n  2  3  1  0\\n  2 28  1  0\\n  3  4  1  0\\n  4  5  1  0\\n  4  8  1  0\\n  5  6  1  0\\n  5  7  1  0\\n  6 28  1  0\\n  8 13  1  0\\n  8  9  2  0\\n  9 10  1  0\\n  9 27  1  0\\n 10 11  2  0\\n 11 12  1  0\\n 11 26  1  0\\n 12 17  1  0\\n 12 13  2  0\\n 13 14  1  0\\n 14 15  1  0\\n 15 16  2  0\\n 15 19  1  0\\n 16 17  1  0\\n 17 18  2  0\\n 19 24  1  0\\n 19 20  2  0\\n 20 21  1  0\\n 21 22  2  0\\n 22 23  1  0\\n 23 24  2  0\\n 24 25  1  0\\nM  CHG  1  28   1\\nM  END\\n\",\"sdf\");\n",
       "\tviewer_149876358943.setStyle({},{\"stick\": {\"colorscheme\": \"default\"}});\n",
       "\n",
       "                viewer_149876358943.render();\n",
       "            });\n",
       "            </script>"
      ],
      "text/plain": [
       "<IPython.core.display.HTML object>"
      ]
     },
     "metadata": {},
     "output_type": "display_data"
    },
    {
     "data": {
      "text/html": [
       "<script>\n",
       "            $3Dmolpromise.done(function() { //wrap in promise for non-interactive functionality\n",
       "                \tviewer_149876358943.removeAllModels();\n",
       "\tviewer_149876358943.removeAllSurfaces();\n",
       "\tviewer_149876358943.removeAllLabels();\n",
       "\tviewer_149876358943.addModel(\"ZINC04617745\\n     RDKit          3D\\n\\n 28 31  0  0  1  0  0  0  0  0999 V2000\\n    4.2771    3.4143    0.6548 C   0  0  0  0  0  0  0  0  0  0  0  0\\n    3.2970    1.4976    1.6778 C   0  0  0  0  0  0  0  0  0  0  0  0\\n    2.0109    1.6184    0.7204 C   0  0  0  0  0  0  0  0  0  0  0  0\\n    2.2105    0.5345   -0.2446 C   0  0  0  0  0  0  0  0  0  0  0  0\\n    3.5065    0.3792   -0.8846 C   0  0  0  0  0  0  0  0  0  0  0  0\\n    4.5377    1.3626   -0.4371 C   0  0  0  0  0  0  0  0  0  0  0  0\\n    3.3978    0.4947   -2.2945 O   0  0  0  0  0  0  0  0  0  0  0  0\\n    1.4544   -0.6863   -0.0517 C   0  0  0  0  0  0  0  0  0  0  0  0\\n    2.2964   -1.8490   -0.1139 C   0  0  0  0  0  0  0  0  0  0  0  0\\n    1.7980   -3.1084   -0.0567 C   0  0  0  0  0  0  0  0  0  0  0  0\\n    0.4171   -3.2465    0.0697 C   0  0  0  0  0  0  0  0  0  0  0  0\\n   -0.3752   -2.1304    0.1234 C   0  0  0  0  0  0  0  0  0  0  0  0\\n    0.0924   -0.8252    0.0666 C   0  0  0  0  0  0  0  0  0  0  0  0\\n   -0.6834    0.2280    0.1040 O   0  0  0  0  0  0  0  0  0  0  0  0\\n   -1.9845    0.1323    0.1919 C   0  0  0  0  0  0  0  0  0  0  0  0\\n   -2.5139   -1.1806    0.2519 C   0  0  0  0  0  0  0  0  0  0  0  0\\n   -1.7597   -2.3064    0.2224 C   0  0  0  0  0  0  0  0  0  0  0  0\\n   -2.1955   -3.4816    0.2663 O   0  0  0  0  0  0  0  0  0  0  0  0\\n   -3.0007    1.1509    0.2348 C   0  0  0  0  0  0  0  0  0  0  0  0\\n   -3.3869    1.7533    1.3949 C   0  0  0  0  0  0  0  0  0  0  0  0\\n   -4.4492    2.6774    1.4138 C   0  0  0  0  0  0  0  0  0  0  0  0\\n   -5.1396    3.0221    0.2722 C   0  0  0  0  0  0  0  0  0  0  0  0\\n   -4.7461    2.4108   -0.9255 C   0  0  0  0  0  0  0  0  0  0  0  0\\n   -3.6720    1.4834   -0.8983 C   0  0  0  0  0  0  0  0  0  0  0  0\\n   -3.3081    0.8139   -2.4954 Cl  0  0  0  0  0  0  0  0  0  0  0  0\\n   -0.1594   -4.5085    0.1495 O   0  0  0  0  0  0  0  0  0  0  0  0\\n    3.6972   -1.6166   -0.2313 O   0  0  0  0  0  0  0  0  0  0  0  0\\n    4.3812    1.9660    0.8191 N   0  0  0  0  0  0  0  0  0  0  0  0\\n  1 28  1  0\\n  2  3  1  0\\n  2 28  1  0\\n  3  4  1  0\\n  4  5  1  0\\n  4  8  1  0\\n  5  6  1  0\\n  5  7  1  0\\n  6 28  1  0\\n  8 13  1  0\\n  8  9  2  0\\n  9 10  1  0\\n  9 27  1  0\\n 10 11  2  0\\n 11 12  1  0\\n 11 26  1  0\\n 12 17  1  0\\n 12 13  2  0\\n 13 14  1  0\\n 14 15  1  0\\n 15 16  2  0\\n 15 19  1  0\\n 16 17  1  0\\n 17 18  2  0\\n 19 24  1  0\\n 19 20  2  0\\n 20 21  1  0\\n 21 22  2  0\\n 22 23  1  0\\n 23 24  2  0\\n 24 25  1  0\\nM  CHG  1  28   1\\nM  END\\n\",\"sdf\");\n",
       "\tviewer_149876358943.setStyle({},{\"stick\": {\"colorscheme\": \"default\"}});\n",
       "\n",
       "                viewer_149876358943.render();\n",
       "            });\n",
       "            </script>"
      ],
      "text/plain": [
       "<IPython.core.display.HTML object>"
      ]
     },
     "metadata": {},
     "output_type": "display_data"
    },
    {
     "data": {
      "text/plain": [
       "<function IPythonConsoleIntegration.addMolToViewForScrolling>"
      ]
     },
     "execution_count": 9,
     "metadata": {},
     "output_type": "execute_result"
    }
   ],
   "source": [
    "ipy.browseMolConformers(ms2,view2,confId=(0, 9),useDrawAs=True,drawAs='stick')"
   ]
  },
  {
   "cell_type": "code",
   "execution_count": 10,
   "metadata": {},
   "outputs": [
    {
     "data": {
      "text/html": [
       "<script>\n",
       "            $3Dmolpromise.done(function() { //wrap in promise for non-interactive functionality\n",
       "                \tviewer_149876358943.zoomTo();\n",
       "\n",
       "                viewer_149876358943.render();\n",
       "            });\n",
       "            </script>"
      ],
      "text/plain": [
       "<IPython.core.display.HTML object>"
      ]
     },
     "execution_count": 10,
     "metadata": {},
     "output_type": "execute_result"
    }
   ],
   "source": [
    "view2.zoomTo()\n",
    "view2.update()"
   ]
  },
  {
   "cell_type": "code",
   "execution_count": 11,
   "metadata": {},
   "outputs": [
    {
     "data": {
      "text/html": [
       "<script>\n",
       "            $3Dmolpromise.done(function() { //wrap in promise for non-interactive functionality\n",
       "                \tviewer_149876358943.setBackgroundColor(\"0xeeeeee\");\n",
       "\n",
       "                viewer_149876358943.render();\n",
       "            });\n",
       "            </script>"
      ],
      "text/plain": [
       "<IPython.core.display.HTML object>"
      ]
     },
     "execution_count": 11,
     "metadata": {},
     "output_type": "execute_result"
    }
   ],
   "source": [
    "# Changing background color is possible too\n",
    "view2.setBackgroundColor('0xeeeeee')\n",
    "view2.update()"
   ]
  },
  {
   "cell_type": "code",
   "execution_count": null,
   "metadata": {
    "collapsed": true
   },
   "outputs": [],
   "source": []
  }
 ],
 "metadata": {
  "kernelspec": {
   "display_name": "Python 2",
   "language": "python",
   "name": "python2"
  },
  "language_info": {
   "codemirror_mode": {
    "name": "ipython",
    "version": 2
   },
   "file_extension": ".py",
   "mimetype": "text/x-python",
   "name": "python",
   "nbconvert_exporter": "python",
   "pygments_lexer": "ipython2",
   "version": "2.7.13"
  }
 },
 "nbformat": 4,
 "nbformat_minor": 2
}
