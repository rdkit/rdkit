{
 "cells": [
  {
   "cell_type": "markdown",
   "metadata": {},
   "source": [
    "### Project: RDKit - 3Dmol.js integration<br>Function : MolView3D and a few utilities <br><br>Notebook 5 : Visualizing multiple ligands with properties\n",
    "Student: Malitha Humayun Kabir<br>\n",
    "Mentors: Paul Czodrowski and Greg Landrum <br>\n",
    "Date: 12th September 2017 <br>\n",
    "Acknowledgement: Peter Gedeck reviewed and provided advice on restructuring codes and wrote MolViewState class. The starting point of MolView3D was Greg Landrum's codes on conformer browser."
   ]
  },
  {
   "cell_type": "code",
   "execution_count": null,
   "metadata": {
    "collapsed": true
   },
   "outputs": [],
   "source": [
    "from rdkit.Chem.Draw import IPythonConsoleIntegration as ipy\n",
    "from rdkit import Chem\n",
    "from rdkit.Chem import AllChem\n",
    "from six.moves import urllib"
   ]
  },
  {
   "cell_type": "markdown",
   "metadata": {},
   "source": [
    "This notebook demonstrates <b>multiple molecule and conformers</b> visualization using <b>MolView3D</b> function of RDKit. "
   ]
  },
  {
   "cell_type": "code",
   "execution_count": null,
   "metadata": {
    "collapsed": true
   },
   "outputs": [],
   "source": [
    "# Codes from Greg Landrum\n",
    "data = [('m1','COc1ccc2[nH]c([S@@+]([O-])Cc3ncc(C)c(OC)c3C)nc2c1'),\n",
    "        ('m2','COc1ccc2[nH]c([S@+]([O-])Cc3ncc(C)c(OC)c3C)nc2c1'),\n",
    "        ('m3','COc1ccc2[nH]c([S+]([O-])Cc3ncc(C)c(OC)c3C)nc2c1'),\n",
    "        ('m4','CCOc1ccc2[nH]c([S@@+]([O-])Cc3ncc(C)c(OCCC)c3C)nc2c1')]\n",
    "ms = [(x,Chem.AddHs(Chem.MolFromSmiles(y))) for x,y in data]\n",
    "params = AllChem.ETKDG()\n",
    "params.numThreads=3\n",
    "for nm,m in ms:\n",
    "    AllChem.EmbedMultipleConfs(m,numConfs=10,params=params)\n",
    "    # align to one of the ring systems:\n",
    "    AllChem.AlignMolConformers(m,m.GetSubstructMatch(Chem.MolFromSmarts('c1[nH]c2ccccc2n1')))"
   ]
  },
  {
   "cell_type": "markdown",
   "metadata": {},
   "source": [
    "Variable <b>ms</b> got the required data."
   ]
  },
  {
   "cell_type": "code",
   "execution_count": null,
   "metadata": {
    "collapsed": true
   },
   "outputs": [],
   "source": [
    "ms"
   ]
  },
  {
   "cell_type": "code",
   "execution_count": null,
   "metadata": {
    "collapsed": true
   },
   "outputs": [],
   "source": [
    "moldict = dict(ms)"
   ]
  },
  {
   "cell_type": "markdown",
   "metadata": {},
   "source": [
    "Running the <b>ProcessLigandDict</b> function for <b>moldict</b> does the required processing to make the dictionary suitable for <b>MolView3D</b> function.<br>"
   ]
  },
  {
   "cell_type": "code",
   "execution_count": null,
   "metadata": {
    "collapsed": true
   },
   "outputs": [],
   "source": [
    "moldict = ipy.ProcessLigandDict(ligandDict = moldict)\n",
    "moldict"
   ]
  },
  {
   "cell_type": "markdown",
   "metadata": {
    "collapsed": true
   },
   "source": [
    "As we see here, <b>ProcessLigandDict</b> actually adds another dictionary under each <b>molecule id</b> while the original mol object taken to the new dictionary. For the convenience of the presentation, we call this assigned key for the new dictionary is <b>child key</b>. "
   ]
  },
  {
   "cell_type": "code",
   "execution_count": null,
   "metadata": {
    "collapsed": true
   },
   "outputs": [],
   "source": [
    "ipy.AddPropToLigandDict(ligandDict = moldict, onChildKey = 'lig')\n",
    "moldict"
   ]
  },
  {
   "cell_type": "markdown",
   "metadata": {},
   "source": [
    "The function - <b>AddPropToLigandDict</b> adds property (descriptors) to the mol object. "
   ]
  },
  {
   "cell_type": "markdown",
   "metadata": {},
   "source": [
    "Let's view this in <b>MolView3D</b>. To view property in <b>MolView3D widgets</b>, we need to parse additional argument <b>propertyPanel = True</b>."
   ]
  },
  {
   "cell_type": "code",
   "execution_count": null,
   "metadata": {
    "collapsed": true
   },
   "outputs": [],
   "source": [
    "view = ipy.MolView3D(ligandDict = moldict, propertyPanel = True)"
   ]
  },
  {
   "cell_type": "markdown",
   "metadata": {},
   "source": [
    "Please note: <ul><li><b>MolView3D</b> function got a few additional arguments for child key selection. Please see <b>notebook 6 and 7</b> for those. </li><li>In this particular notebook, we accept default settings fro <b>MolView3D</b> as we accepted default settings for <b>ProcessLigandDict, CopyMolWithChildKey, and MinimizeLigand</b> function. This might not be the case always.</li><li>If your dictionary got more than one child key then you should mention those explicitly in <b>MolView3D</b> arguments.</li></ul> "
   ]
  },
  {
   "cell_type": "markdown",
   "metadata": {},
   "source": [
    "### Thank you very much for your time. Have a great day! "
   ]
  }
 ],
 "metadata": {
  "kernelspec": {
   "display_name": "Python 2",
   "language": "python",
   "name": "python2"
  },
  "language_info": {
   "codemirror_mode": {
    "name": "ipython",
    "version": 2
   },
   "file_extension": ".py",
   "mimetype": "text/x-python",
   "name": "python",
   "nbconvert_exporter": "python",
   "pygments_lexer": "ipython2",
   "version": "2.7.13"
  }
 },
 "nbformat": 4,
 "nbformat_minor": 2
}
