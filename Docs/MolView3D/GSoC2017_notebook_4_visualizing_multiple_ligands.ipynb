{
 "cells": [
  {
   "cell_type": "markdown",
   "metadata": {},
   "source": [
    "### Project: RDKit - 3Dmol.js integration<br>Function : MolView3D and a few utilities <br><br>Notebook 4 : Visualizing multiple ligands\n",
    "Student: Malitha Humayun Kabir<br>\n",
    "Mentors: Paul Czodrowski and Greg Landrum <br>\n",
    "Date: 12th September 2017 <br>\n",
    "Acknowledgement: Peter Gedeck reviewed and provided advice on restructuring codes and wrote MolViewState class. The starting point of MolView3D was Greg Landrum's codes on conformer browser."
   ]
  },
  {
   "cell_type": "code",
   "execution_count": null,
   "metadata": {
    "collapsed": true
   },
   "outputs": [],
   "source": [
    "from rdkit.Chem.Draw import IPythonConsoleIntegration as ipy\n",
    "from rdkit.Chem.ChemUtils import LigandExtract\n",
    "from rdkit import Chem\n",
    "from rdkit.Chem import AllChem\n",
    "from six.moves import urllib"
   ]
  },
  {
   "cell_type": "markdown",
   "metadata": {},
   "source": [
    "This notebook demonstrates rapid extration of <b>multiple ligands</b> from PDB file and subsequent visualization of <b>protein-ligand complex</b> using <b>MolView3D</b> function of RDKit. "
   ]
  },
  {
   "cell_type": "markdown",
   "metadata": {},
   "source": [
    "We can use any PDB file. "
   ]
  },
  {
   "cell_type": "code",
   "execution_count": null,
   "metadata": {
    "collapsed": true
   },
   "outputs": [],
   "source": [
    "url = 'https://files.rcsb.org/download/4i22.pdb'\n",
    "response = urllib.request.urlopen(url)\n",
    "data = response.read()"
   ]
  },
  {
   "cell_type": "markdown",
   "metadata": {},
   "source": [
    "Variable name <b>data</b> got the required data that can be used in creating RDKit Mol object."
   ]
  },
  {
   "cell_type": "code",
   "execution_count": null,
   "metadata": {
    "collapsed": true
   },
   "outputs": [],
   "source": [
    "Mol = Chem.MolFromPDBBlock(data)\n",
    "Mol is None"
   ]
  },
  {
   "cell_type": "markdown",
   "metadata": {},
   "source": [
    "The residue <b>IRE</b> is one of the ligands. We are going to extract that first."
   ]
  },
  {
   "cell_type": "code",
   "execution_count": null,
   "metadata": {
    "collapsed": true
   },
   "outputs": [],
   "source": [
    "nm_1 = LigandExtract.ExtractMolFragment(Mol,ResName = 'IRE')\n",
    "nm_1"
   ]
  },
  {
   "cell_type": "markdown",
   "metadata": {},
   "source": [
    "Variable <b>nm_1</b> contains two elements: <ul><li><b>nm_1.match</b> is the ligand </li><li> <b>nm_1.rest</b> is the protein.</ul>"
   ]
  },
  {
   "cell_type": "markdown",
   "metadata": {
    "collapsed": true
   },
   "source": [
    "The residue name <b>SO4</b> appeared in PDB file. We are now extracting it too."
   ]
  },
  {
   "cell_type": "code",
   "execution_count": null,
   "metadata": {
    "collapsed": true
   },
   "outputs": [],
   "source": [
    "nm_2 = LigandExtract.ExtractMolFragment(nm_1.rest, ResName = 'SO4')\n",
    "nm_2"
   ]
  },
  {
   "cell_type": "markdown",
   "metadata": {},
   "source": [
    "Variable <b>nm_2</b> contains two elements: <ul><li><b>nm_2.match</b> is the ligand </li><li> <b>nm_2.rest</b> is the protein.</li></ul>"
   ]
  },
  {
   "cell_type": "markdown",
   "metadata": {},
   "source": [
    "Now we need to put all the ligands in a dictionary."
   ]
  },
  {
   "cell_type": "code",
   "execution_count": null,
   "metadata": {
    "collapsed": true
   },
   "outputs": [],
   "source": [
    "moldict = {'IRE': nm_1.match, 'SO4': nm_2.match, }\n",
    "moldict"
   ]
  },
  {
   "cell_type": "markdown",
   "metadata": {},
   "source": [
    "Running the <b>ProcessLigandDict</b> function for the dictionary <b>moldict</b> does the required processing generating another dictionary. The later one is in suitable format for <b>MolView3D</b> function."
   ]
  },
  {
   "cell_type": "code",
   "execution_count": null,
   "metadata": {
    "collapsed": true
   },
   "outputs": [],
   "source": [
    "moldict_2 = ipy.ProcessLigandDict(moldict)\n",
    "moldict_2"
   ]
  },
  {
   "cell_type": "markdown",
   "metadata": {},
   "source": [
    "Let's view this in <b>MolView3D</b>. And put tick mark at <b>selectAllMols</b> checkbox."
   ]
  },
  {
   "cell_type": "code",
   "execution_count": null,
   "metadata": {
    "collapsed": true
   },
   "outputs": [],
   "source": [
    "view = ipy.MolView3D(ligandDict = moldict_2, protein = nm_2.rest, ligStyle = ['sphere'])"
   ]
  },
  {
   "cell_type": "markdown",
   "metadata": {},
   "source": [
    "Please note: <ul><li><b>MolView3D</b> function got a few additional arguments for child key selection. Please see <b>notebook 3, 6, and 7</b> for those. </li><li>In this particular notebook, we accepted default settings for <b>ProcessLigandDict</b> function. So, accepting default settings for <b>MolView3D</b> will NOT create problem here. But, this might not be the case always.</li><li>If your dictionary got more than one child key then you should mention those explicitly in <b>MolView3D</b> arguments.</li></ul>"
   ]
  },
  {
   "cell_type": "markdown",
   "metadata": {},
   "source": [
    "### Thank you very much for your time. Have a great day! "
   ]
  },
  {
   "cell_type": "code",
   "execution_count": null,
   "metadata": {
    "collapsed": true
   },
   "outputs": [],
   "source": []
  }
 ],
 "metadata": {
  "kernelspec": {
   "display_name": "Python 2",
   "language": "python",
   "name": "python2"
  },
  "language_info": {
   "codemirror_mode": {
    "name": "ipython",
    "version": 2
   },
   "file_extension": ".py",
   "mimetype": "text/x-python",
   "name": "python",
   "nbconvert_exporter": "python",
   "pygments_lexer": "ipython2",
   "version": "2.7.13"
  }
 },
 "nbformat": 4,
 "nbformat_minor": 2
}
