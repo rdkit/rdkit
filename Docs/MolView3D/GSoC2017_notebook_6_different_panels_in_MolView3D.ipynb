{
 "cells": [
  {
   "cell_type": "markdown",
   "metadata": {},
   "source": [
    "### Project: RDKit - 3Dmol.js integration<br>Function : MolView3D and a few utilities <br><br>Notebook 6 : Different panels in MolView3D\n",
    "Student: Malitha Humayun Kabir<br>\n",
    "Mentors: Paul Czodrowski and Greg Landrum <br>\n",
    "Date: 12th September 2017 <br>\n",
    "Acknowledgement: Peter Gedeck reviewed and provided advice on restructuring codes and wrote MolViewState class. The starting point of MolView3D was Greg Landrum's codes on conformer browser."
   ]
  },
  {
   "cell_type": "code",
   "execution_count": null,
   "metadata": {
    "collapsed": true
   },
   "outputs": [],
   "source": [
    "from rdkit.Chem.Draw import IPythonConsoleIntegration as ipy\n",
    "from rdkit import Chem\n",
    "from rdkit.Chem import AllChem\n",
    "from six.moves import urllib"
   ]
  },
  {
   "cell_type": "markdown",
   "metadata": {},
   "source": [
    "This is notebook demonstrates the usability of different panels offered by <b>MolView3D</b> function of RDKit."
   ]
  },
  {
   "cell_type": "code",
   "execution_count": null,
   "metadata": {
    "collapsed": true
   },
   "outputs": [],
   "source": [
    "# Codes from Paolo Tosco (Slightly modified version)\n",
    "url = 'https://github.com/rdkit/rdkit/raw/master/Docs/Book/data/cdk2.sdf'\n",
    "response = urllib.request.urlopen(url)\n",
    "data = response.read()\n",
    "suppl = Chem.SDMolSupplier()\n",
    "suppl.SetData(data)\n",
    "ms=[mol for mol in suppl]\n",
    "params = AllChem.ETKDG()\n",
    "params.numThreads=3\n",
    "for m in ms:\n",
    "    AllChem.EmbedMultipleConfs(m,numConfs=5,params=params)"
   ]
  },
  {
   "cell_type": "markdown",
   "metadata": {},
   "source": [
    "Variable name <b>ms</b> got the required data. For demontration purpose, we are taking only the first 4 molecules."
   ]
  },
  {
   "cell_type": "code",
   "execution_count": null,
   "metadata": {
    "collapsed": true
   },
   "outputs": [],
   "source": [
    "molecules = ms[:4]"
   ]
  },
  {
   "cell_type": "code",
   "execution_count": null,
   "metadata": {
    "collapsed": true
   },
   "outputs": [],
   "source": [
    "mols=[(str(ids),mol) for ids,mol in enumerate(molecules)]\n",
    "moldict = dict(mols)\n",
    "moldict"
   ]
  },
  {
   "cell_type": "code",
   "execution_count": null,
   "metadata": {
    "collapsed": true
   },
   "outputs": [],
   "source": [
    "print('molecule keys within dictionary is : ' + str(type(list(moldict.keys())[0])))\n",
    "print('The following are the molecule keys : ')\n",
    "print(list(moldict.keys()))"
   ]
  },
  {
   "cell_type": "markdown",
   "metadata": {},
   "source": [
    "Running the <b>ProcessLigandDict</b> function for moldict does the required processing."
   ]
  },
  {
   "cell_type": "code",
   "execution_count": null,
   "metadata": {
    "collapsed": true
   },
   "outputs": [],
   "source": [
    "moldict = ipy.ProcessLigandDict(ligandDict = moldict)\n",
    "moldict"
   ]
  },
  {
   "cell_type": "code",
   "execution_count": null,
   "metadata": {
    "collapsed": true
   },
   "outputs": [],
   "source": [
    "ipy.CopyMolWithChildKey(ligandDict = moldict, copyFrom = 'lig', newChildKey = 'emLig')"
   ]
  },
  {
   "cell_type": "markdown",
   "metadata": {},
   "source": [
    "The function - <b>AddPropToLigandDict</b> adds property (descriptors) to the mol object. "
   ]
  },
  {
   "cell_type": "code",
   "execution_count": null,
   "metadata": {
    "collapsed": true
   },
   "outputs": [],
   "source": [
    "ipy.AddPropToLigandDict(ligandDict = moldict, onChildKey = 'emLig')"
   ]
  },
  {
   "cell_type": "code",
   "execution_count": null,
   "metadata": {
    "collapsed": true
   },
   "outputs": [],
   "source": [
    "ipy.MinimizeLigand(ligandDict = moldict, onChildKey = 'emLig', createPerConfDataKey = 'energy')\n",
    "moldict"
   ]
  },
  {
   "cell_type": "markdown",
   "metadata": {},
   "source": [
    "Let's view this in <b>MolView3D</b>."
   ]
  },
  {
   "cell_type": "code",
   "execution_count": null,
   "metadata": {
    "collapsed": true
   },
   "outputs": [],
   "source": [
    "view = ipy.MolView3D(ligandDict = moldict, \n",
    "                     molVisibilityPanel = True, \n",
    "                     stylePanel = True,\n",
    "                     propertyPanel = True,\n",
    "                     emPanel = True, \n",
    "                     labelPanel = True,\n",
    "                     childKeysForMolRender = ['lig', 'emLig'], \n",
    "                     ligStyle = ['line', 'line'],\n",
    "                     ligColor = ['default','orangeCarbon'],\n",
    "                     childKeyForConfSelection = 'emLig',\n",
    "                     childKeyForDataPerConf = 'energy',\n",
    "                     childKeyForPropSelection = 'emLig',\n",
    "                     molAndConfIds = (('1',1),))"
   ]
  },
  {
   "cell_type": "markdown",
   "metadata": {},
   "source": [
    "### Thank you very much for your time. Have a great day! "
   ]
  }
 ],
 "metadata": {
  "kernelspec": {
   "display_name": "Python 2",
   "language": "python",
   "name": "python2"
  },
  "language_info": {
   "codemirror_mode": {
    "name": "ipython",
    "version": 2
   },
   "file_extension": ".py",
   "mimetype": "text/x-python",
   "name": "python",
   "nbconvert_exporter": "python",
   "pygments_lexer": "ipython2",
   "version": "2.7.13"
  }
 },
 "nbformat": 4,
 "nbformat_minor": 2
}
