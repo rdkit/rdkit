{
 "cells": [
  {
   "cell_type": "markdown",
   "metadata": {},
   "source": [
    "### Project: RDKit - 3Dmol.js integration<br>Function : MolView3D and a few utilities <br><br>Notebook 3 : Visualizing energy minimization effect on ligand multiple conformers\n",
    "Student: Malitha Humayun Kabir<br>\n",
    "Mentors: Paul Czodrowski and Greg Landrum <br>\n",
    "Date: 12th September 2017 <br>\n",
    "Acknowledgement: Peter Gedeck reviewed and provided advice on restructuring codes and wrote MolViewState class. The starting point of MolView3D was Greg Landrum's codes on conformer browser."
   ]
  },
  {
   "cell_type": "code",
   "execution_count": null,
   "metadata": {
    "collapsed": true
   },
   "outputs": [],
   "source": [
    "from rdkit.Chem.Draw import IPythonConsoleIntegration as ipy\n",
    "from rdkit.Chem.ChemUtils import LigandExtract\n",
    "from rdkit import Chem\n",
    "from rdkit.Chem import AllChem\n",
    "from six.moves import urllib"
   ]
  },
  {
   "cell_type": "markdown",
   "metadata": {},
   "source": [
    "This notebook demonstrates rapid <b>extration of ligand from PDB file, energy minimization of ligand</b>, and subsequent <b>visualization of protein-ligand complex</b> using <b>MolView3D</b> function of RDKit. This notebook extends the information presented at <b>notebook 2</b>."
   ]
  },
  {
   "cell_type": "markdown",
   "metadata": {},
   "source": [
    "Let's start from ligand extraction. We can use any PDB file. "
   ]
  },
  {
   "cell_type": "code",
   "execution_count": null,
   "metadata": {
    "collapsed": true
   },
   "outputs": [],
   "source": [
    "url = 'https://files.rcsb.org/download/4ICZ.pdb'\n",
    "response = urllib.request.urlopen(url)\n",
    "data = response.read()"
   ]
  },
  {
   "cell_type": "markdown",
   "metadata": {},
   "source": [
    "Variable name <b>data</b> got the required data that can be used in creating RDKit Mol object."
   ]
  },
  {
   "cell_type": "code",
   "execution_count": null,
   "metadata": {
    "collapsed": true
   },
   "outputs": [],
   "source": [
    "Mol = Chem.MolFromPDBBlock(data)\n",
    "Mol is None"
   ]
  },
  {
   "cell_type": "markdown",
   "metadata": {},
   "source": [
    "The residue <b>PTR</b> is the ligand. We are now extracting it."
   ]
  },
  {
   "cell_type": "code",
   "execution_count": null,
   "metadata": {
    "collapsed": true
   },
   "outputs": [],
   "source": [
    "nm = LigandExtract.ExtractMolFragment(Mol,ResName = 'PTR')\n",
    "nm"
   ]
  },
  {
   "cell_type": "markdown",
   "metadata": {},
   "source": [
    "Variable <b>nm</b> contains two elements: <ul><li><b>nm.match</b> is the ligand </li><li> <b>nm.rest</b> is the protein.</li></ul>"
   ]
  },
  {
   "cell_type": "markdown",
   "metadata": {},
   "source": [
    "Now we need to put the ligand in a dictionary."
   ]
  },
  {
   "cell_type": "code",
   "execution_count": null,
   "metadata": {
    "collapsed": true
   },
   "outputs": [],
   "source": [
    "moldict = {'0': nm.match}\n",
    "moldict"
   ]
  },
  {
   "cell_type": "markdown",
   "metadata": {},
   "source": [
    "Running the <b>ProcessLigandDict</b> function for the dictionary <b>moldict</b> does the required processing generating another dictionary. The later one is in suitable format for <b>MolView3D</b> function."
   ]
  },
  {
   "cell_type": "code",
   "execution_count": null,
   "metadata": {
    "collapsed": true
   },
   "outputs": [],
   "source": [
    "moldict_2 = ipy.ProcessLigandDict(moldict)\n",
    "moldict_2"
   ]
  },
  {
   "cell_type": "markdown",
   "metadata": {
    "collapsed": true
   },
   "source": [
    "As we see here, <b>ProcessLigandDict</b> actually adds another dictionary under each <b>molecule id</b> while the original mol object taken to the new dictionary. For the convenience of the presentation, we call this assigned key for the new dictionary is <b>child key</b>. "
   ]
  },
  {
   "cell_type": "code",
   "execution_count": null,
   "metadata": {
    "collapsed": true
   },
   "outputs": [],
   "source": [
    "ipy.CopyMolWithChildKey(ligandDict = moldict_2, copyFrom = 'lig', newChildKey = 'emLig')\n",
    "moldict_2"
   ]
  },
  {
   "cell_type": "markdown",
   "metadata": {
    "collapsed": true
   },
   "source": [
    "The function - <b>CopyMolWithChildKey</b> adds another dictionary under each <b>molecule id</b>. We can also choose the key name as per our wish. Before running the function <b>CopyMolWithChildKey</b> the child key <b>lig</b> was in <b>moldict_2</b>. So, the <b>copyFrom</b> argument is <b>lig</b>, and the function adds another dictionary with the key <b>emLig</b> under molecule id. So, <b>newChildKey</b> argument is <b>emLig</b>. "
   ]
  },
  {
   "cell_type": "code",
   "execution_count": null,
   "metadata": {
    "collapsed": true
   },
   "outputs": [],
   "source": [
    "steps = 4\n",
    "iterPerStep = 50\n",
    "mol = moldict_2['0']['emLig']\n",
    "\n",
    "for i in range(steps):\n",
    "    ipy.MinimizeLigand(ligandDict = moldict_2, \n",
    "                       onChildKey = 'emLig', createPerConfDataKey = 'energy',\n",
    "                       molAndConfIds = (('0', i),), \n",
    "                       maxIters = iterPerStep)\n",
    "    if mol.GetNumConformers() < steps:\n",
    "        mol.AddConformer(mol.GetConformer(i) ,assignId=True)\n",
    "        \n",
    "moldict_2"
   ]
  },
  {
   "cell_type": "markdown",
   "metadata": {},
   "source": [
    "In the above code block, energy minimization performed on the molecule with child key <b>emLig</b>. On each iteration, the energy minimized conformer serves as the starting conformer of the next iteration. And the minimization energy added to the dictionary with key <b>energy</b> under molecule id."
   ]
  },
  {
   "cell_type": "markdown",
   "metadata": {},
   "source": [
    "As we see in <b>moldict_2</b>, the molecule having child key <b>lig</b> got only one conformer and <b>emLig</b> got more than one conformer, we need to ask <b>MolView3D</b> to take conformer id from <b>emLig</b> for conformer selection and also where the minimization energy are stored. Another thing is, if we want to view energy level data in <b>MolView3D widgets</b>, then we also need to parse another argument <b>emPanel = True</b>."
   ]
  },
  {
   "cell_type": "markdown",
   "metadata": {},
   "source": [
    "Let's view this in <b>MolView3D</b>. Please put tick mark at checkbox named <b>selectAllConfs</b>. This will show all the energy minimized conformers."
   ]
  },
  {
   "cell_type": "code",
   "execution_count": null,
   "metadata": {
    "collapsed": true
   },
   "outputs": [],
   "source": [
    "view = ipy.MolView3D(ligandDict = moldict_2, protein = nm.rest, \n",
    "                     childKeysForMolRender = ['lig', 'emLig'], \n",
    "                     childKeyForConfSelection = 'emLig',\n",
    "                     childKeyForDataPerConf = 'energy',\n",
    "                     emPanel = True,\n",
    "                     ligStyle = ['stick', 'stick'], protStyle='cartoon',\n",
    "                     ligColor = ['default','orangeCarbon'], protColor='ssPyMOL')"
   ]
  },
  {
   "cell_type": "markdown",
   "metadata": {},
   "source": [
    "Please also note that, at the time of writing this notebook (11th September 2017), <b>surface coloring for both protein and ligand will not work</b>. We hope to add this feature in near future."
   ]
  },
  {
   "cell_type": "code",
   "execution_count": null,
   "metadata": {
    "collapsed": true
   },
   "outputs": [],
   "source": [
    "view2 = ipy.MolView3D(ligandDict = moldict_2, protein = nm.rest, \n",
    "                      childKeysForMolRender = ['lig'], \n",
    "                      childKeyForConfSelection = 'lig',\n",
    "                      ligStyle = ['stick'], protStyle='surface',\n",
    "                      ligColor = ['default'])"
   ]
  },
  {
   "cell_type": "markdown",
   "metadata": {},
   "source": [
    "### Thank you very much for your time. Have a great day! "
   ]
  }
 ],
 "metadata": {
  "kernelspec": {
   "display_name": "Python 2",
   "language": "python",
   "name": "python2"
  },
  "language_info": {
   "codemirror_mode": {
    "name": "ipython",
    "version": 2
   },
   "file_extension": ".py",
   "mimetype": "text/x-python",
   "name": "python",
   "nbconvert_exporter": "python",
   "pygments_lexer": "ipython2",
   "version": "2.7.13"
  }
 },
 "nbformat": 4,
 "nbformat_minor": 2
}
